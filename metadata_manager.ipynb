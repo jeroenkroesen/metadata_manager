{
 "cells": [
  {
   "cell_type": "markdown",
   "id": "2c6e12cd-5e65-47f1-a3d0-191091480d39",
   "metadata": {},
   "source": [
    "# Metadata Manager"
   ]
  },
  {
   "cell_type": "markdown",
   "id": "64f171aa-a691-487e-8340-95a618a556c0",
   "metadata": {
    "tags": []
   },
   "source": [
    "## Config"
   ]
  },
  {
   "cell_type": "code",
   "execution_count": 4,
   "id": "8e9120d0-cb9f-4bd0-894c-ca9a3f4e318a",
   "metadata": {
    "jupyter": {
     "source_hidden": true
    }
   },
   "outputs": [],
   "source": [
    "metadata_folder = '../metadata'\n",
    "metadata_repo_location = '../metadata/DataPlatform_Metadata/metadata'\n",
    "metadata_stash_folder = '../metadata/stash'\n",
    "load_workspace_from = 'store' # 'stash' or 'store'"
   ]
  },
  {
   "cell_type": "markdown",
   "id": "c9e4c990-d7e7-4b10-bca4-6e9710a125b6",
   "metadata": {},
   "source": [
    "## Load and validate"
   ]
  },
  {
   "cell_type": "code",
   "execution_count": 6,
   "id": "08793b72-a180-46d3-84a0-a79cd6157d07",
   "metadata": {
    "jupyter": {
     "source_hidden": true
    },
    "tags": []
   },
   "outputs": [
    {
     "data": {
      "text/html": [
       "<pre style=\"white-space:pre;overflow-x:auto;line-height:normal;font-family:Menlo,'DejaVu Sans Mono',consolas,'Courier New',monospace\"><span style=\"font-weight: bold\">Checking Root</span>\n",
       "</pre>\n"
      ],
      "text/plain": [
       "\u001b[1mChecking Root\u001b[0m\n"
      ]
     },
     "metadata": {},
     "output_type": "display_data"
    },
    {
     "data": {
      "text/html": [
       "<pre style=\"white-space:pre;overflow-x:auto;line-height:normal;font-family:Menlo,'DejaVu Sans Mono',consolas,'Courier New',monospace\">Folder: <span style=\"color: #ffffff; text-decoration-color: #ffffff\">/home/jeroen/02-local/dev/Dedimo/DataPlatform_repos/metadata</span>\n",
       "</pre>\n"
      ],
      "text/plain": [
       "Folder: \u001b[97m/home/jeroen/02-local/dev/Dedimo/DataPlatform_repos/\u001b[0m\u001b[97mmetadata\u001b[0m\n"
      ]
     },
     "metadata": {},
     "output_type": "display_data"
    },
    {
     "data": {
      "text/html": [
       "<pre style=\"white-space:pre;overflow-x:auto;line-height:normal;font-family:Menlo,'DejaVu Sans Mono',consolas,'Courier New',monospace\"><span style=\"color: #00ff00; text-decoration-color: #00ff00\">Root </span><span style=\"color: #00ff00; text-decoration-color: #00ff00; font-weight: bold\">exists</span>\n",
       "</pre>\n"
      ],
      "text/plain": [
       "\u001b[92mRoot \u001b[0m\u001b[1;92mexists\u001b[0m\n"
      ]
     },
     "metadata": {},
     "output_type": "display_data"
    },
    {
     "data": {
      "text/html": [
       "<pre style=\"white-space:pre;overflow-x:auto;line-height:normal;font-family:Menlo,'DejaVu Sans Mono',consolas,'Courier New',monospace\">\n",
       "</pre>\n"
      ],
      "text/plain": [
       "\n"
      ]
     },
     "metadata": {},
     "output_type": "display_data"
    },
    {
     "data": {
      "text/html": [
       "<pre style=\"white-space:pre;overflow-x:auto;line-height:normal;font-family:Menlo,'DejaVu Sans Mono',consolas,'Courier New',monospace\"><span style=\"font-weight: bold\">Checking Repo</span>\n",
       "</pre>\n"
      ],
      "text/plain": [
       "\u001b[1mChecking Repo\u001b[0m\n"
      ]
     },
     "metadata": {},
     "output_type": "display_data"
    },
    {
     "data": {
      "text/html": [
       "<pre style=\"white-space:pre;overflow-x:auto;line-height:normal;font-family:Menlo,'DejaVu Sans Mono',consolas,'Courier New',monospace\">Folder: <span style=\"color: #ffffff; text-decoration-color: #ffffff\">/home/jeroen/02-local/dev/Dedimo/DataPlatform_repos/metadata/DataPlatform_Metadata</span>\n",
       "</pre>\n"
      ],
      "text/plain": [
       "Folder: \u001b[97m/home/jeroen/02-local/dev/Dedimo/DataPlatform_repos/metadata/\u001b[0m\u001b[97mDataPlatform_Metadata\u001b[0m\n"
      ]
     },
     "metadata": {},
     "output_type": "display_data"
    },
    {
     "data": {
      "text/html": [
       "<pre style=\"white-space:pre;overflow-x:auto;line-height:normal;font-family:Menlo,'DejaVu Sans Mono',consolas,'Courier New',monospace\"><span style=\"color: #00ff00; text-decoration-color: #00ff00\">Repo </span><span style=\"color: #00ff00; text-decoration-color: #00ff00; font-weight: bold\">exists</span>\n",
       "</pre>\n"
      ],
      "text/plain": [
       "\u001b[92mRepo \u001b[0m\u001b[1;92mexists\u001b[0m\n"
      ]
     },
     "metadata": {},
     "output_type": "display_data"
    },
    {
     "data": {
      "text/html": [
       "<pre style=\"white-space:pre;overflow-x:auto;line-height:normal;font-family:Menlo,'DejaVu Sans Mono',consolas,'Courier New',monospace\">\n",
       "</pre>\n"
      ],
      "text/plain": [
       "\n"
      ]
     },
     "metadata": {},
     "output_type": "display_data"
    },
    {
     "data": {
      "text/html": [
       "<pre style=\"white-space:pre;overflow-x:auto;line-height:normal;font-family:Menlo,'DejaVu Sans Mono',consolas,'Courier New',monospace\"><span style=\"font-weight: bold\">Checking Repo Data</span>\n",
       "</pre>\n"
      ],
      "text/plain": [
       "\u001b[1mChecking Repo Data\u001b[0m\n"
      ]
     },
     "metadata": {},
     "output_type": "display_data"
    },
    {
     "data": {
      "text/html": [
       "<pre style=\"white-space:pre;overflow-x:auto;line-height:normal;font-family:Menlo,'DejaVu Sans Mono',consolas,'Courier New',monospace\">Folder: <span style=\"color: #ffffff; text-decoration-color: #ffffff\">/home/jeroen/02-local/dev/Dedimo/DataPlatform_repos/metadata/DataPlatform_Metadata/metadata</span>\n",
       "</pre>\n"
      ],
      "text/plain": [
       "Folder: \u001b[97m/home/jeroen/02-local/dev/Dedimo/DataPlatform_repos/metadata/DataPlatform_Metadata/\u001b[0m\u001b[97mmetadata\u001b[0m\n"
      ]
     },
     "metadata": {},
     "output_type": "display_data"
    },
    {
     "data": {
      "text/html": [
       "<pre style=\"white-space:pre;overflow-x:auto;line-height:normal;font-family:Menlo,'DejaVu Sans Mono',consolas,'Courier New',monospace\"><span style=\"color: #00ff00; text-decoration-color: #00ff00\">Repo data </span><span style=\"color: #00ff00; text-decoration-color: #00ff00; font-weight: bold\">exists</span>\n",
       "</pre>\n"
      ],
      "text/plain": [
       "\u001b[92mRepo data \u001b[0m\u001b[1;92mexists\u001b[0m\n"
      ]
     },
     "metadata": {},
     "output_type": "display_data"
    },
    {
     "data": {
      "text/html": [
       "<pre style=\"white-space:pre;overflow-x:auto;line-height:normal;font-family:Menlo,'DejaVu Sans Mono',consolas,'Courier New',monospace\">\n",
       "</pre>\n"
      ],
      "text/plain": [
       "\n"
      ]
     },
     "metadata": {},
     "output_type": "display_data"
    },
    {
     "data": {
      "text/html": [
       "<pre style=\"white-space:pre;overflow-x:auto;line-height:normal;font-family:Menlo,'DejaVu Sans Mono',consolas,'Courier New',monospace\"><span style=\"font-weight: bold\">Checking Stash</span>\n",
       "</pre>\n"
      ],
      "text/plain": [
       "\u001b[1mChecking Stash\u001b[0m\n"
      ]
     },
     "metadata": {},
     "output_type": "display_data"
    },
    {
     "data": {
      "text/html": [
       "<pre style=\"white-space:pre;overflow-x:auto;line-height:normal;font-family:Menlo,'DejaVu Sans Mono',consolas,'Courier New',monospace\">Folder: <span style=\"color: #ffffff; text-decoration-color: #ffffff\">/home/jeroen/02-local/dev/Dedimo/DataPlatform_repos/metadata/stash</span>\n",
       "</pre>\n"
      ],
      "text/plain": [
       "Folder: \u001b[97m/home/jeroen/02-local/dev/Dedimo/DataPlatform_repos/metadata/\u001b[0m\u001b[97mstash\u001b[0m\n"
      ]
     },
     "metadata": {},
     "output_type": "display_data"
    },
    {
     "data": {
      "text/html": [
       "<pre style=\"white-space:pre;overflow-x:auto;line-height:normal;font-family:Menlo,'DejaVu Sans Mono',consolas,'Courier New',monospace\"><span style=\"color: #00ff00; text-decoration-color: #00ff00\">Stash </span><span style=\"color: #00ff00; text-decoration-color: #00ff00; font-weight: bold\">exists</span>\n",
       "</pre>\n"
      ],
      "text/plain": [
       "\u001b[92mStash \u001b[0m\u001b[1;92mexists\u001b[0m\n"
      ]
     },
     "metadata": {},
     "output_type": "display_data"
    },
    {
     "data": {
      "text/html": [
       "<pre style=\"white-space:pre;overflow-x:auto;line-height:normal;font-family:Menlo,'DejaVu Sans Mono',consolas,'Courier New',monospace\">\n",
       "</pre>\n"
      ],
      "text/plain": [
       "\n"
      ]
     },
     "metadata": {},
     "output_type": "display_data"
    },
    {
     "data": {
      "text/html": [
       "<pre style=\"white-space:pre;overflow-x:auto;line-height:normal;font-family:Menlo,'DejaVu Sans Mono',consolas,'Courier New',monospace\">\n",
       "</pre>\n"
      ],
      "text/plain": [
       "\n"
      ]
     },
     "metadata": {},
     "output_type": "display_data"
    },
    {
     "data": {
      "text/html": [
       "<pre style=\"white-space:pre;overflow-x:auto;line-height:normal;font-family:Menlo,'DejaVu Sans Mono',consolas,'Courier New',monospace\"><span style=\"color: #00ff00; text-decoration-color: #00ff00; font-weight: bold\">** Datastructures are valid. Loading Metadata Manager **</span>\n",
       "</pre>\n"
      ],
      "text/plain": [
       "\u001b[1;92m** Datastructures are valid. Loading Metadata Manager **\u001b[0m\n"
      ]
     },
     "metadata": {},
     "output_type": "display_data"
    }
   ],
   "source": [
    "# Setup and check\n",
    "from rich import print, inspect\n",
    "\n",
    "from metadata_lib.schemas import Namespace, Schema, System, Data_entity, Pipeline\n",
    "from metadata_lib.manage import (\n",
    "    MetadataLocation, MetadataStructure, MetadataManager\n",
    ")\n",
    "from metadata_lib.build import flatten_instance\n",
    "import pendulum\n",
    "from metadata_lib.validate import get_next_free_id\n",
    "from metadata_lib.storage_adapters import LocalFilesystem\n",
    "\n",
    "from deps.mm_setup import setup_manager\n",
    "\n",
    "import pandas as pd\n",
    "# Pandas settings\n",
    "# Do not truncate cell contents\n",
    "pd.set_option('display.max_colwidth', None)\n",
    "# Do not truncate nr of columns shown\n",
    "pd.set_option('display.max_columns', None)\n",
    "# Do not truncate nr of rows\n",
    "pd.set_option('display.max_rows', None)\n",
    "\n",
    "# Check data structures\n",
    "valid = setup_manager()\n",
    "\n",
    "# init\n",
    "if valid:\n",
    "    print()\n",
    "    print()\n",
    "    print('[bold bright_green]** Datastructures are valid. Loading Metadata Manager **[/bold bright_green]')\n",
    "    store = MetadataLocation(\n",
    "        storage_type='localstorage',\n",
    "        Storage_Adapter=LocalFilesystem,\n",
    "        address=metadata_repo_location,\n",
    "        entities_to_load=None,\n",
    "        is_git_repo=False\n",
    "    )\n",
    "    stash = MetadataLocation(\n",
    "        storage_type='localstorage',\n",
    "        Storage_Adapter=LocalFilesystem,\n",
    "        address=metadata_stash_folder,\n",
    "        entities_to_load=None,\n",
    "        is_git_repo=False\n",
    "    )\n",
    "    mm = MetadataManager(\n",
    "        store=store,\n",
    "        stash=stash,\n",
    "        load_current=True,\n",
    "        load_workspace=load_workspace_from\n",
    "    )\n",
    "else:\n",
    "    print()\n",
    "    print()\n",
    "    print('[bold bright_red]** Invalid datastructures. Metadata Manager can not be loaded **[/bold bright_red]')"
   ]
  },
  {
   "cell_type": "markdown",
   "id": "dc9fec9b-9261-446d-a6a7-4095fade0bda",
   "metadata": {},
   "source": [
    "***"
   ]
  },
  {
   "cell_type": "markdown",
   "id": "693dd9b0-5fb9-4294-821f-35ed5b08f21a",
   "metadata": {
    "jp-MarkdownHeadingCollapsed": true,
    "tags": []
   },
   "source": [
    "## ** Namespaces **"
   ]
  },
  {
   "cell_type": "markdown",
   "id": "96bccf4f-241d-4bb6-b13c-a2d108752375",
   "metadata": {
    "jp-MarkdownHeadingCollapsed": true,
    "tags": []
   },
   "source": [
    "### View"
   ]
  },
  {
   "cell_type": "code",
   "execution_count": 3,
   "id": "40478acf-5471-49e4-83a8-aa88529babc4",
   "metadata": {
    "tags": []
   },
   "outputs": [
    {
     "data": {
      "text/html": [
       "<div>\n",
       "<style scoped>\n",
       "    .dataframe tbody tr th:only-of-type {\n",
       "        vertical-align: middle;\n",
       "    }\n",
       "\n",
       "    .dataframe tbody tr th {\n",
       "        vertical-align: top;\n",
       "    }\n",
       "\n",
       "    .dataframe thead th {\n",
       "        text-align: right;\n",
       "    }\n",
       "</style>\n",
       "<table border=\"1\" class=\"dataframe\">\n",
       "  <thead>\n",
       "    <tr style=\"text-align: right;\">\n",
       "      <th></th>\n",
       "      <th>id</th>\n",
       "      <th>unid</th>\n",
       "      <th>name</th>\n",
       "      <th>description</th>\n",
       "      <th>created</th>\n",
       "      <th>modified</th>\n",
       "    </tr>\n",
       "  </thead>\n",
       "  <tbody>\n",
       "    <tr>\n",
       "      <th>0</th>\n",
       "      <td>1</td>\n",
       "      <td>dedimo</td>\n",
       "      <td>dedimo</td>\n",
       "      <td>Dedimo, the parent company of our clinics. Also used as an overarching generic namespace.</td>\n",
       "      <td>2022-09-10 06:56:07+00:00</td>\n",
       "      <td>2022-09-10 06:56:07+00:00</td>\n",
       "    </tr>\n",
       "    <tr>\n",
       "      <th>1</th>\n",
       "      <td>2</td>\n",
       "      <td>adhdcentraal</td>\n",
       "      <td>adhdcentraal</td>\n",
       "      <td>ADHDcentraal is a clinic for diagnosis and treatment of adult ADHD.</td>\n",
       "      <td>2022-09-10 06:56:07+00:00</td>\n",
       "      <td>2022-09-10 06:56:07+00:00</td>\n",
       "    </tr>\n",
       "    <tr>\n",
       "      <th>2</th>\n",
       "      <td>3</td>\n",
       "      <td>sobercare</td>\n",
       "      <td>sobercare</td>\n",
       "      <td>SoberCare is a clinic for treatment of addiction.</td>\n",
       "      <td>2022-09-10 06:56:07+00:00</td>\n",
       "      <td>2022-09-10 06:56:07+00:00</td>\n",
       "    </tr>\n",
       "    <tr>\n",
       "      <th>3</th>\n",
       "      <td>4</td>\n",
       "      <td>dataplatform</td>\n",
       "      <td>dataplatform</td>\n",
       "      <td>dataplatform is a namespace for platform internal services and resources</td>\n",
       "      <td>2022-09-24 07:20:44+00:00</td>\n",
       "      <td>2022-09-24 07:20:44+00:00</td>\n",
       "    </tr>\n",
       "  </tbody>\n",
       "</table>\n",
       "</div>"
      ],
      "text/plain": [
       "   id          unid          name  \\\n",
       "0   1        dedimo        dedimo   \n",
       "1   2  adhdcentraal  adhdcentraal   \n",
       "2   3     sobercare     sobercare   \n",
       "3   4  dataplatform  dataplatform   \n",
       "\n",
       "                                                                                 description  \\\n",
       "0  Dedimo, the parent company of our clinics. Also used as an overarching generic namespace.   \n",
       "1                        ADHDcentraal is a clinic for diagnosis and treatment of adult ADHD.   \n",
       "2                                          SoberCare is a clinic for treatment of addiction.   \n",
       "3                   dataplatform is a namespace for platform internal services and resources   \n",
       "\n",
       "                    created                  modified  \n",
       "0 2022-09-10 06:56:07+00:00 2022-09-10 06:56:07+00:00  \n",
       "1 2022-09-10 06:56:07+00:00 2022-09-10 06:56:07+00:00  \n",
       "2 2022-09-10 06:56:07+00:00 2022-09-10 06:56:07+00:00  \n",
       "3 2022-09-24 07:20:44+00:00 2022-09-24 07:20:44+00:00  "
      ]
     },
     "execution_count": 3,
     "metadata": {},
     "output_type": "execute_result"
    }
   ],
   "source": [
    "mm.workspace.view['namespaces']"
   ]
  },
  {
   "cell_type": "markdown",
   "id": "a3a7160e-49a0-4264-beca-4fe4946800ab",
   "metadata": {},
   "source": [
    "***"
   ]
  },
  {
   "cell_type": "markdown",
   "id": "40469b4d-01ca-4629-8b4b-b2e8e6aa283d",
   "metadata": {
    "jp-MarkdownHeadingCollapsed": true,
    "tags": []
   },
   "source": [
    "### Add New"
   ]
  },
  {
   "cell_type": "markdown",
   "id": "38bf8096-76b5-46bf-85f0-e6685987bb9d",
   "metadata": {
    "jp-MarkdownHeadingCollapsed": true,
    "tags": []
   },
   "source": [
    "#### - Create new namespace"
   ]
  },
  {
   "cell_type": "code",
   "execution_count": 22,
   "id": "889c63f8-e912-4bc4-afd9-968e5e8d6974",
   "metadata": {},
   "outputs": [
    {
     "data": {
      "text/html": [
       "<pre style=\"white-space:pre;overflow-x:auto;line-height:normal;font-family:Menlo,'DejaVu Sans Mono',consolas,'Courier New',monospace\"><span style=\"color: #800080; text-decoration-color: #800080; font-weight: bold\">Namespace</span><span style=\"font-weight: bold\">(</span>\n",
       "    <span style=\"color: #808000; text-decoration-color: #808000\">id</span>=<span style=\"color: #008080; text-decoration-color: #008080; font-weight: bold\">5</span>,\n",
       "    <span style=\"color: #808000; text-decoration-color: #808000\">unid</span>=<span style=\"color: #800080; text-decoration-color: #800080; font-style: italic\">None</span>,\n",
       "    <span style=\"color: #808000; text-decoration-color: #808000\">name</span>=<span style=\"color: #008000; text-decoration-color: #008000\">'dedimo'</span>,\n",
       "    <span style=\"color: #808000; text-decoration-color: #808000\">description</span>=<span style=\"color: #008000; text-decoration-color: #008000\">'WPEX'</span>,\n",
       "    <span style=\"color: #808000; text-decoration-color: #808000\">created</span>=<span style=\"color: #800080; text-decoration-color: #800080; font-weight: bold\">DateTime</span><span style=\"font-weight: bold\">(</span><span style=\"color: #008080; text-decoration-color: #008080; font-weight: bold\">2024</span>, <span style=\"color: #008080; text-decoration-color: #008080; font-weight: bold\">4</span>, <span style=\"color: #008080; text-decoration-color: #008080; font-weight: bold\">17</span>, <span style=\"color: #008080; text-decoration-color: #008080; font-weight: bold\">13</span>, <span style=\"color: #008080; text-decoration-color: #008080; font-weight: bold\">21</span>, <span style=\"color: #008080; text-decoration-color: #008080; font-weight: bold\">5</span>, <span style=\"color: #008080; text-decoration-color: #008080; font-weight: bold\">959182</span>, <span style=\"color: #808000; text-decoration-color: #808000\">tzinfo</span>=<span style=\"color: #800080; text-decoration-color: #800080; font-weight: bold\">Timezone</span><span style=\"font-weight: bold\">(</span><span style=\"color: #008000; text-decoration-color: #008000\">'Europe/Amsterdam'</span><span style=\"font-weight: bold\">))</span>,\n",
       "    <span style=\"color: #808000; text-decoration-color: #808000\">modified</span>=<span style=\"color: #800080; text-decoration-color: #800080; font-weight: bold\">DateTime</span><span style=\"font-weight: bold\">(</span><span style=\"color: #008080; text-decoration-color: #008080; font-weight: bold\">2024</span>, <span style=\"color: #008080; text-decoration-color: #008080; font-weight: bold\">4</span>, <span style=\"color: #008080; text-decoration-color: #008080; font-weight: bold\">17</span>, <span style=\"color: #008080; text-decoration-color: #008080; font-weight: bold\">13</span>, <span style=\"color: #008080; text-decoration-color: #008080; font-weight: bold\">21</span>, <span style=\"color: #008080; text-decoration-color: #008080; font-weight: bold\">5</span>, <span style=\"color: #008080; text-decoration-color: #008080; font-weight: bold\">959242</span>, <span style=\"color: #808000; text-decoration-color: #808000\">tzinfo</span>=<span style=\"color: #800080; text-decoration-color: #800080; font-weight: bold\">Timezone</span><span style=\"font-weight: bold\">(</span><span style=\"color: #008000; text-decoration-color: #008000\">'Europe/Amsterdam'</span><span style=\"font-weight: bold\">))</span>\n",
       "<span style=\"font-weight: bold\">)</span>\n",
       "</pre>\n"
      ],
      "text/plain": [
       "\u001b[1;35mNamespace\u001b[0m\u001b[1m(\u001b[0m\n",
       "    \u001b[33mid\u001b[0m=\u001b[1;36m5\u001b[0m,\n",
       "    \u001b[33munid\u001b[0m=\u001b[3;35mNone\u001b[0m,\n",
       "    \u001b[33mname\u001b[0m=\u001b[32m'dedimo'\u001b[0m,\n",
       "    \u001b[33mdescription\u001b[0m=\u001b[32m'WPEX'\u001b[0m,\n",
       "    \u001b[33mcreated\u001b[0m=\u001b[1;35mDateTime\u001b[0m\u001b[1m(\u001b[0m\u001b[1;36m2024\u001b[0m, \u001b[1;36m4\u001b[0m, \u001b[1;36m17\u001b[0m, \u001b[1;36m13\u001b[0m, \u001b[1;36m21\u001b[0m, \u001b[1;36m5\u001b[0m, \u001b[1;36m959182\u001b[0m, \u001b[33mtzinfo\u001b[0m=\u001b[1;35mTimezone\u001b[0m\u001b[1m(\u001b[0m\u001b[32m'Europe/Amsterdam'\u001b[0m\u001b[1m)\u001b[0m\u001b[1m)\u001b[0m,\n",
       "    \u001b[33mmodified\u001b[0m=\u001b[1;35mDateTime\u001b[0m\u001b[1m(\u001b[0m\u001b[1;36m2024\u001b[0m, \u001b[1;36m4\u001b[0m, \u001b[1;36m17\u001b[0m, \u001b[1;36m13\u001b[0m, \u001b[1;36m21\u001b[0m, \u001b[1;36m5\u001b[0m, \u001b[1;36m959242\u001b[0m, \u001b[33mtzinfo\u001b[0m=\u001b[1;35mTimezone\u001b[0m\u001b[1m(\u001b[0m\u001b[32m'Europe/Amsterdam'\u001b[0m\u001b[1m)\u001b[0m\u001b[1m)\u001b[0m\n",
       "\u001b[1m)\u001b[0m\n"
      ]
     },
     "metadata": {},
     "output_type": "display_data"
    }
   ],
   "source": [
    "new_namespace = Namespace(\n",
    "    id=get_next_free_id(mm.workspace.by_id, 'namespaces'),\n",
    "    unid=None,\n",
    "    name='dedimo',\n",
    "    description='WPEX',\n",
    "    created=pendulum.now(tz='Europe/Amsterdam'),\n",
    "    modified=pendulum.now(tz='Europe/Amsterdam')\n",
    ")\n",
    "print(new_namespace)"
   ]
  },
  {
   "cell_type": "markdown",
   "id": "aad00c49-0303-4ecf-8766-c1586a1c7685",
   "metadata": {},
   "source": [
    "#### - Validate new namespace and add it to workspace"
   ]
  },
  {
   "cell_type": "code",
   "execution_count": null,
   "id": "dc8e149b-f5b9-4ad0-8773-1e02177a16de",
   "metadata": {},
   "outputs": [],
   "source": [
    "mm.add_new_entity(new_namespace)"
   ]
  },
  {
   "cell_type": "markdown",
   "id": "896e9e10-81d0-448e-b978-11be34e40beb",
   "metadata": {},
   "source": [
    "#### - Save metadata from workspace to disk"
   ]
  },
  {
   "cell_type": "code",
   "execution_count": null,
   "id": "a98f2041-35b2-46fa-9642-294ed84216b1",
   "metadata": {},
   "outputs": [],
   "source": [
    "mm.stash_workspace()\n",
    "# mm.store_workspace()"
   ]
  },
  {
   "cell_type": "markdown",
   "id": "415cd041-9618-4269-a159-60a5c83eb48e",
   "metadata": {},
   "source": [
    "***"
   ]
  },
  {
   "cell_type": "markdown",
   "id": "3671e146-17f2-466d-9648-3ec622a1a9a8",
   "metadata": {
    "jp-MarkdownHeadingCollapsed": true,
    "tags": []
   },
   "source": [
    "### Edit existing"
   ]
  },
  {
   "cell_type": "markdown",
   "id": "25275451-eb21-48f1-afc8-8f33f4a16240",
   "metadata": {
    "tags": []
   },
   "source": [
    "#### - Get the namespace you want to edit"
   ]
  },
  {
   "cell_type": "code",
   "execution_count": null,
   "id": "2eed8cc8-ac7b-445b-bd78-c4aa4085746a",
   "metadata": {},
   "outputs": [],
   "source": [
    "namespace_UNID = 'UNID'\n",
    "\n",
    "edited_namespace = mm.get_entity_by_unid(\n",
    "    entity_type='namespaces',\n",
    "    unid=namespace_UNID\n",
    ")\n",
    "print(edited_namespace)"
   ]
  },
  {
   "cell_type": "markdown",
   "id": "796a8917-239e-40b5-8d23-a40b81babcbc",
   "metadata": {},
   "source": [
    "#### - Edit the namespace"
   ]
  },
  {
   "cell_type": "code",
   "execution_count": null,
   "id": "8b2c622b-371c-4b9c-ae36-7b5672ef484e",
   "metadata": {},
   "outputs": [],
   "source": [
    "edited_namespace.name = 'NEW NAME'\n",
    "edited_namespace.description = 'NEW DESCRIPTION'\n",
    "\n",
    "print(edited_namespace)"
   ]
  },
  {
   "cell_type": "markdown",
   "id": "ae0253b9-273e-4fc6-bacb-e494402fc5b0",
   "metadata": {},
   "source": [
    "#### - Validate the namespace and add it to workspace structure"
   ]
  },
  {
   "cell_type": "code",
   "execution_count": null,
   "id": "79fc8c03-0e08-42e0-9fb9-81a8623ad824",
   "metadata": {},
   "outputs": [],
   "source": [
    "mm.update_entity(edited_namespace)"
   ]
  },
  {
   "cell_type": "markdown",
   "id": "a8aaf138-efd3-49c7-b5ab-ae48d4cd8d1a",
   "metadata": {},
   "source": [
    "#### - Save metadata from workspace to disk"
   ]
  },
  {
   "cell_type": "code",
   "execution_count": null,
   "id": "949a359c-ed5d-47a0-ae7e-a81a3fe36523",
   "metadata": {},
   "outputs": [],
   "source": [
    "mm.stash_workspace()\n",
    "# mm.store_workspace()"
   ]
  },
  {
   "cell_type": "markdown",
   "id": "ccc3d8dc-0aae-4021-969d-7062d69c66e8",
   "metadata": {},
   "source": [
    "***"
   ]
  },
  {
   "cell_type": "markdown",
   "id": "d9b8398b-fc2b-4397-a58b-9ddc81cb3de3",
   "metadata": {
    "jp-MarkdownHeadingCollapsed": true,
    "tags": []
   },
   "source": [
    "### Delete"
   ]
  },
  {
   "cell_type": "markdown",
   "id": "587490c7-8c9f-4775-824b-e18f1e6eddc9",
   "metadata": {},
   "source": [
    "#### - Specify UNID and inspect namespace"
   ]
  },
  {
   "cell_type": "code",
   "execution_count": null,
   "id": "7a035f1e-55c0-46d9-913f-00bb1e8dc95c",
   "metadata": {},
   "outputs": [],
   "source": [
    "namespace_UNID_to_delete = 'UNID'\n",
    "\n",
    "namespace_to_delete = mm.get_entity_by_unid(\n",
    "    entity_type='namespaces',\n",
    "    unid=namespace_UNID_to_delete\n",
    ")\n",
    "print(namespace_to_delete)"
   ]
  },
  {
   "cell_type": "markdown",
   "id": "9fd92ef6-9930-4d88-88ea-3d767e208c47",
   "metadata": {},
   "source": [
    "#### - Validate removal of the namespace and remove it from workspace"
   ]
  },
  {
   "cell_type": "code",
   "execution_count": null,
   "id": "5fb1211d-51a6-46eb-adca-68f5ed070a42",
   "metadata": {},
   "outputs": [],
   "source": [
    "report = mm.delete_entity(\n",
    "    entity_type='namespaces',\n",
    "    unid=namespace_UNID_to_delete\n",
    ")\n",
    "print(report)"
   ]
  },
  {
   "cell_type": "markdown",
   "id": "c8ae83c4-548d-45a0-8027-a27b5871f6ef",
   "metadata": {
    "tags": []
   },
   "source": [
    "#### - Save metadata from workspace to disk"
   ]
  },
  {
   "cell_type": "code",
   "execution_count": null,
   "id": "34e05391-fb46-425a-b7f5-0feeca8f32d4",
   "metadata": {},
   "outputs": [],
   "source": [
    "mm.stash_workspace()\n",
    "# mm.store_workspace()"
   ]
  },
  {
   "cell_type": "markdown",
   "id": "dd1a4b10-6b6d-4739-b7e6-2b0a17e08926",
   "metadata": {},
   "source": [
    "***"
   ]
  },
  {
   "cell_type": "markdown",
   "id": "d32777ff-205d-44bc-a03a-f3ac2b4504ad",
   "metadata": {
    "jp-MarkdownHeadingCollapsed": true,
    "tags": []
   },
   "source": [
    "## ** Schemas **"
   ]
  },
  {
   "cell_type": "markdown",
   "id": "fb7231bb-af03-4528-be3e-d79ad4bd76aa",
   "metadata": {
    "jp-MarkdownHeadingCollapsed": true,
    "tags": []
   },
   "source": [
    "### View"
   ]
  },
  {
   "cell_type": "code",
   "execution_count": 4,
   "id": "b4d7cb90-de9b-40fd-b93a-8222eb731524",
   "metadata": {
    "tags": []
   },
   "outputs": [
    {
     "data": {
      "text/html": [
       "<div>\n",
       "<style scoped>\n",
       "    .dataframe tbody tr th:only-of-type {\n",
       "        vertical-align: middle;\n",
       "    }\n",
       "\n",
       "    .dataframe tbody tr th {\n",
       "        vertical-align: top;\n",
       "    }\n",
       "\n",
       "    .dataframe thead th {\n",
       "        text-align: right;\n",
       "    }\n",
       "</style>\n",
       "<table border=\"1\" class=\"dataframe\">\n",
       "  <thead>\n",
       "    <tr style=\"text-align: right;\">\n",
       "      <th></th>\n",
       "      <th>id</th>\n",
       "      <th>unid</th>\n",
       "      <th>namespace</th>\n",
       "      <th>name</th>\n",
       "      <th>description</th>\n",
       "      <th>type</th>\n",
       "      <th>version</th>\n",
       "      <th>entity_schema</th>\n",
       "      <th>created</th>\n",
       "      <th>modified</th>\n",
       "    </tr>\n",
       "  </thead>\n",
       "  <tbody>\n",
       "    <tr>\n",
       "      <th>0</th>\n",
       "      <td>1</td>\n",
       "      <td>medicore_risks_conditions_datasource.1</td>\n",
       "      <td>adhdcentraal</td>\n",
       "      <td>medicore_risks_conditions_datasource</td>\n",
       "      <td>The risks and conditions table as it is received from Medicore</td>\n",
       "      <td>bigquery</td>\n",
       "      <td>1</td>\n",
       "      <td>[{'name': 'risico_id', 'mode': 'REQUIRED', 'type': 'INTEGER'}, {'name': 'client_code', 'mode': 'NULLABLE', 'type': 'STRING'}, {'name': 'client_naam', 'mode': 'NULLABLE', 'type': 'STRING'}, {'name': 'omschrijving', 'mode': 'REQUIRED', 'type': 'STRING'}, {'name': 'classificatie', 'mode': 'NULLABLE', 'type': 'STRING'}, {'name': 'startdatum', 'mode': 'NULLABLE', 'type': 'STRING'}, {'name': 'einddatum', 'mode': 'NULLABLE', 'type': 'STRING'}, {'name': 'vastgesteld_door', 'mode': 'NULLABLE', 'type': 'STRING'}]</td>\n",
       "      <td>2022-09-10 06:56:07+00:00</td>\n",
       "      <td>2022-10-21 11:16:49+00:00</td>\n",
       "    </tr>\n",
       "    <tr>\n",
       "      <th>1</th>\n",
       "      <td>2</td>\n",
       "      <td>medicore_risks_conditions_core.1</td>\n",
       "      <td>adhdcentraal</td>\n",
       "      <td>medicore_risks_conditions_core</td>\n",
       "      <td>The risks and conditions table in the dataplatform</td>\n",
       "      <td>bigquery</td>\n",
       "      <td>1</td>\n",
       "      <td>[{'name': 'risico_id', 'mode': 'REQUIRED', 'type': 'INTEGER'}, {'name': 'client_code', 'mode': 'NULLABLE', 'type': 'STRING'}, {'name': 'client_naam', 'mode': 'NULLABLE', 'type': 'STRING'}, {'name': 'omschrijving', 'mode': 'REQUIRED', 'type': 'STRING'}, {'name': 'classificatie', 'mode': 'NULLABLE', 'type': 'STRING'}, {'name': 'startdatum', 'mode': 'NULLABLE', 'type': 'DATE'}, {'name': 'einddatum', 'mode': 'NULLABLE', 'type': 'DATE'}, {'name': 'vastgesteld_door', 'mode': 'NULLABLE', 'type': 'STRING'}]</td>\n",
       "      <td>2022-09-10 06:56:07+00:00</td>\n",
       "      <td>2022-10-21 11:16:49+00:00</td>\n",
       "    </tr>\n",
       "  </tbody>\n",
       "</table>\n",
       "</div>"
      ],
      "text/plain": [
       "   id                                    unid     namespace  \\\n",
       "0   1  medicore_risks_conditions_datasource.1  adhdcentraal   \n",
       "1   2        medicore_risks_conditions_core.1  adhdcentraal   \n",
       "\n",
       "                                   name  \\\n",
       "0  medicore_risks_conditions_datasource   \n",
       "1        medicore_risks_conditions_core   \n",
       "\n",
       "                                                      description      type  \\\n",
       "0  The risks and conditions table as it is received from Medicore  bigquery   \n",
       "1              The risks and conditions table in the dataplatform  bigquery   \n",
       "\n",
       "   version  \\\n",
       "0        1   \n",
       "1        1   \n",
       "\n",
       "                                                                                                                                                                                                                                                                                                                                                                                                                                                                                                                  entity_schema  \\\n",
       "0  [{'name': 'risico_id', 'mode': 'REQUIRED', 'type': 'INTEGER'}, {'name': 'client_code', 'mode': 'NULLABLE', 'type': 'STRING'}, {'name': 'client_naam', 'mode': 'NULLABLE', 'type': 'STRING'}, {'name': 'omschrijving', 'mode': 'REQUIRED', 'type': 'STRING'}, {'name': 'classificatie', 'mode': 'NULLABLE', 'type': 'STRING'}, {'name': 'startdatum', 'mode': 'NULLABLE', 'type': 'STRING'}, {'name': 'einddatum', 'mode': 'NULLABLE', 'type': 'STRING'}, {'name': 'vastgesteld_door', 'mode': 'NULLABLE', 'type': 'STRING'}]   \n",
       "1      [{'name': 'risico_id', 'mode': 'REQUIRED', 'type': 'INTEGER'}, {'name': 'client_code', 'mode': 'NULLABLE', 'type': 'STRING'}, {'name': 'client_naam', 'mode': 'NULLABLE', 'type': 'STRING'}, {'name': 'omschrijving', 'mode': 'REQUIRED', 'type': 'STRING'}, {'name': 'classificatie', 'mode': 'NULLABLE', 'type': 'STRING'}, {'name': 'startdatum', 'mode': 'NULLABLE', 'type': 'DATE'}, {'name': 'einddatum', 'mode': 'NULLABLE', 'type': 'DATE'}, {'name': 'vastgesteld_door', 'mode': 'NULLABLE', 'type': 'STRING'}]   \n",
       "\n",
       "                    created                  modified  \n",
       "0 2022-09-10 06:56:07+00:00 2022-10-21 11:16:49+00:00  \n",
       "1 2022-09-10 06:56:07+00:00 2022-10-21 11:16:49+00:00  "
      ]
     },
     "execution_count": 4,
     "metadata": {},
     "output_type": "execute_result"
    }
   ],
   "source": [
    "mm.workspace.view['schemas']"
   ]
  },
  {
   "cell_type": "markdown",
   "id": "d3290cf1-b72e-4f81-aec8-78ff8b6b49e9",
   "metadata": {},
   "source": [
    "***"
   ]
  },
  {
   "cell_type": "markdown",
   "id": "58873dff-bb01-484e-b110-4707d2e7b5df",
   "metadata": {
    "tags": []
   },
   "source": [
    "### Add New"
   ]
  },
  {
   "cell_type": "markdown",
   "id": "b3d99260-2b96-4cc3-95b5-9dbd3a13c7fe",
   "metadata": {
    "jp-MarkdownHeadingCollapsed": true,
    "tags": []
   },
   "source": [
    "#### - Create new schema"
   ]
  },
  {
   "cell_type": "code",
   "execution_count": null,
   "id": "58640bbb-c60b-49de-98b9-49dbd9cd4e86",
   "metadata": {},
   "outputs": [],
   "source": [
    "new_schema = Schema(\n",
    "    id=get_next_free_id(mm.workspace.by_id, 'schemas'),\n",
    "    unid=None,\n",
    "    namespace='dedimo',\n",
    "    name='test',\n",
    "    description=None,\n",
    "    type='bigquery',\n",
    "    version=1,\n",
    "    entity_schema=[{'mode': 'REQUIRED', 'name': 'nummer', 'type': 'STRING'}],\n",
    "    created=pendulum.now(tz='Europe/Amsterdam'),\n",
    "    modified=pendulum.now(tz='Europe/Amsterdam')\n",
    ")\n",
    "print(new_schema)"
   ]
  },
  {
   "cell_type": "markdown",
   "id": "401f9944-9914-40ec-a3dc-caf53d6c4c37",
   "metadata": {},
   "source": [
    "#### - Validate new schema and add it to workspace"
   ]
  },
  {
   "cell_type": "code",
   "execution_count": null,
   "id": "d9420c35-eda6-4c4f-9d32-74283b098b53",
   "metadata": {},
   "outputs": [],
   "source": [
    "mm.add_new_entity(new_schema)"
   ]
  },
  {
   "cell_type": "markdown",
   "id": "6e2f41bb-bebf-448b-95b2-595b64d8c4ef",
   "metadata": {},
   "source": [
    "#### - Save metadata from workspace to disk"
   ]
  },
  {
   "cell_type": "code",
   "execution_count": 10,
   "id": "f831c5f5-d16e-4b10-bfbc-2d82fed2d921",
   "metadata": {},
   "outputs": [],
   "source": [
    "mm.stash_workspace()\n",
    "# mm.store_workspace()"
   ]
  },
  {
   "cell_type": "markdown",
   "id": "25db2689-d597-4728-a186-35d76c0d74af",
   "metadata": {},
   "source": [
    "***"
   ]
  },
  {
   "cell_type": "markdown",
   "id": "b2695cf0-51f6-40ef-ab40-a032cf780421",
   "metadata": {
    "jp-MarkdownHeadingCollapsed": true,
    "tags": []
   },
   "source": [
    "### Edit existing"
   ]
  },
  {
   "cell_type": "markdown",
   "id": "ef654d7c-08b0-4613-9e21-0dda9d1eaa94",
   "metadata": {
    "tags": []
   },
   "source": [
    "#### - Get the schema to edit"
   ]
  },
  {
   "cell_type": "code",
   "execution_count": null,
   "id": "4a8cf602-3f01-4093-a91e-564913069d8e",
   "metadata": {},
   "outputs": [],
   "source": [
    "schema_UNID = 'UNID'\n",
    "\n",
    "edited_schema = mm.get_entity_by_unid(\n",
    "    entity_type='schemas',\n",
    "    unid=schema_UNID\n",
    ")\n",
    "print(edited_schema)"
   ]
  },
  {
   "cell_type": "markdown",
   "id": "eabe6434-fef9-46dc-982d-356642d6b50f",
   "metadata": {},
   "source": [
    "#### - Edit the schema"
   ]
  },
  {
   "cell_type": "code",
   "execution_count": null,
   "id": "c6f01d67-fa35-4193-a5e6-bd0b62261431",
   "metadata": {},
   "outputs": [],
   "source": [
    "edited_schema.namespace = 'NEW NAMESPACE UNID'\n",
    "edited_schema.name = 'NEW NAME'\n",
    "edited_schema.description = 'NEW DESCRIPTION' # None\n",
    "edited_schema.type = 'bigquery' # 'avro'\n",
    "edited_schema.version = edited_schema.version + 1\n",
    "edited_schema.entity_schema = [\n",
    "    {'mode': 'REQUIRED', 'name': 'nummer', 'type': 'STRING'}\n",
    "]\n",
    "\n",
    "print(edited_schema)"
   ]
  },
  {
   "cell_type": "markdown",
   "id": "43384574-afa3-4559-8b90-7efc874b8c77",
   "metadata": {},
   "source": [
    "#### - Validate the schema and add it to workspace structure"
   ]
  },
  {
   "cell_type": "code",
   "execution_count": null,
   "id": "2a44052b-4eb0-4778-a41d-306d55cf4683",
   "metadata": {},
   "outputs": [],
   "source": [
    "mm.update_entity(edited_schema)"
   ]
  },
  {
   "cell_type": "markdown",
   "id": "2393b492-2c3e-4b79-9b30-a0ea19049b07",
   "metadata": {},
   "source": [
    "#### - Save metadata from workspace to disk"
   ]
  },
  {
   "cell_type": "code",
   "execution_count": null,
   "id": "bce9c173-728d-442e-845d-f5cf1074766a",
   "metadata": {
    "tags": []
   },
   "outputs": [],
   "source": [
    "mm.stash_workspace()\n",
    "# mm.store_workspace()"
   ]
  },
  {
   "cell_type": "markdown",
   "id": "0ae5d9a4-5a21-4107-837a-a01b634f8de5",
   "metadata": {},
   "source": [
    "***"
   ]
  },
  {
   "cell_type": "markdown",
   "id": "220fd9a5-3698-4a38-bc97-a16b5800b038",
   "metadata": {
    "jp-MarkdownHeadingCollapsed": true,
    "tags": []
   },
   "source": [
    "### Delete"
   ]
  },
  {
   "cell_type": "markdown",
   "id": "27afe529-0b15-4d62-91ba-c7940ff92b92",
   "metadata": {
    "tags": []
   },
   "source": [
    "#### - Specify UNID and inspect schema"
   ]
  },
  {
   "cell_type": "code",
   "execution_count": null,
   "id": "51423661-f6be-43c7-805d-213b5a91619d",
   "metadata": {},
   "outputs": [],
   "source": [
    "schema_UNID_to_delete = 'UNID'\n",
    "\n",
    "schema_to_delete = mm.get_entity_by_unid(\n",
    "    entity_type='schemas',\n",
    "    unid=schema_UNID_to_delete\n",
    ")\n",
    "print(schema_to_delete)"
   ]
  },
  {
   "cell_type": "markdown",
   "id": "8848a649-5739-4bcf-a030-38e8e2f09704",
   "metadata": {},
   "source": [
    "#### - Validate removal of the schema and remove it from workspace"
   ]
  },
  {
   "cell_type": "code",
   "execution_count": null,
   "id": "c0f4dfb7-3823-489c-89e2-6207ceb46238",
   "metadata": {},
   "outputs": [],
   "source": [
    "report = mm.delete_entity(\n",
    "    entity_type='schemas',\n",
    "    unid=schema_UNID_to_delete\n",
    ")\n",
    "print(report)"
   ]
  },
  {
   "cell_type": "markdown",
   "id": "58245b31-2ce8-4b76-816c-410a0af69ea6",
   "metadata": {
    "tags": []
   },
   "source": [
    "#### - Save metadata from workspace to disk"
   ]
  },
  {
   "cell_type": "code",
   "execution_count": null,
   "id": "96cbe67b-acf1-45c7-9f02-591be22e47cd",
   "metadata": {},
   "outputs": [],
   "source": [
    "mm.stash_workspace()\n",
    "# mm.store_workspace()"
   ]
  },
  {
   "cell_type": "markdown",
   "id": "8ce1aa4f-38ba-4a49-ac9e-e2e2d67b249b",
   "metadata": {},
   "source": [
    "***"
   ]
  },
  {
   "cell_type": "markdown",
   "id": "7ee3f0d0-6796-4251-bb89-c0386097dcbb",
   "metadata": {
    "jp-MarkdownHeadingCollapsed": true,
    "tags": []
   },
   "source": [
    "## ** Systems **"
   ]
  },
  {
   "cell_type": "markdown",
   "id": "61efa160-8fdf-4357-8dd9-3cae40006ac4",
   "metadata": {
    "jp-MarkdownHeadingCollapsed": true,
    "tags": []
   },
   "source": [
    "### View"
   ]
  },
  {
   "cell_type": "code",
   "execution_count": 5,
   "id": "f2a5740b-13d9-4e8e-a1f7-e99fcbfe9d9b",
   "metadata": {
    "tags": []
   },
   "outputs": [
    {
     "data": {
      "text/html": [
       "<div>\n",
       "<style scoped>\n",
       "    .dataframe tbody tr th:only-of-type {\n",
       "        vertical-align: middle;\n",
       "    }\n",
       "\n",
       "    .dataframe tbody tr th {\n",
       "        vertical-align: top;\n",
       "    }\n",
       "\n",
       "    .dataframe thead th {\n",
       "        text-align: right;\n",
       "    }\n",
       "</style>\n",
       "<table border=\"1\" class=\"dataframe\">\n",
       "  <thead>\n",
       "    <tr style=\"text-align: right;\">\n",
       "      <th></th>\n",
       "      <th>id</th>\n",
       "      <th>unid</th>\n",
       "      <th>namespace</th>\n",
       "      <th>name</th>\n",
       "      <th>description</th>\n",
       "      <th>type</th>\n",
       "      <th>config</th>\n",
       "      <th>created</th>\n",
       "      <th>modified</th>\n",
       "    </tr>\n",
       "  </thead>\n",
       "  <tbody>\n",
       "    <tr>\n",
       "      <th>0</th>\n",
       "      <td>1</td>\n",
       "      <td>adhdcentraal.medicore</td>\n",
       "      <td>adhdcentraal</td>\n",
       "      <td>medicore</td>\n",
       "      <td>The medical records system for ADHDcentraal</td>\n",
       "      <td>external</td>\n",
       "      <td>None</td>\n",
       "      <td>2022-09-10 06:56:07+00:00</td>\n",
       "      <td>2022-10-09 21:36:01+00:00</td>\n",
       "    </tr>\n",
       "    <tr>\n",
       "      <th>1</th>\n",
       "      <td>2</td>\n",
       "      <td>dataplatform.google_cloud_storage</td>\n",
       "      <td>dataplatform</td>\n",
       "      <td>google_cloud_storage</td>\n",
       "      <td>Blob storage on Google Cloud Platform</td>\n",
       "      <td>platform</td>\n",
       "      <td>None</td>\n",
       "      <td>2022-09-10 06:56:07+00:00</td>\n",
       "      <td>2022-10-25 16:41:05+00:00</td>\n",
       "    </tr>\n",
       "    <tr>\n",
       "      <th>2</th>\n",
       "      <td>3</td>\n",
       "      <td>dataplatform.google_bigquery</td>\n",
       "      <td>dataplatform</td>\n",
       "      <td>google_bigquery</td>\n",
       "      <td>Datawarehouse on Google Cloud Platform</td>\n",
       "      <td>platform</td>\n",
       "      <td>None</td>\n",
       "      <td>2022-09-10 06:56:07+00:00</td>\n",
       "      <td>2022-10-25 16:41:05+00:00</td>\n",
       "    </tr>\n",
       "  </tbody>\n",
       "</table>\n",
       "</div>"
      ],
      "text/plain": [
       "   id                               unid     namespace                  name  \\\n",
       "0   1              adhdcentraal.medicore  adhdcentraal              medicore   \n",
       "1   2  dataplatform.google_cloud_storage  dataplatform  google_cloud_storage   \n",
       "2   3       dataplatform.google_bigquery  dataplatform       google_bigquery   \n",
       "\n",
       "                                   description      type config  \\\n",
       "0  The medical records system for ADHDcentraal  external   None   \n",
       "1        Blob storage on Google Cloud Platform  platform   None   \n",
       "2       Datawarehouse on Google Cloud Platform  platform   None   \n",
       "\n",
       "                    created                  modified  \n",
       "0 2022-09-10 06:56:07+00:00 2022-10-09 21:36:01+00:00  \n",
       "1 2022-09-10 06:56:07+00:00 2022-10-25 16:41:05+00:00  \n",
       "2 2022-09-10 06:56:07+00:00 2022-10-25 16:41:05+00:00  "
      ]
     },
     "execution_count": 5,
     "metadata": {},
     "output_type": "execute_result"
    }
   ],
   "source": [
    "mm.workspace.view['systems']"
   ]
  },
  {
   "cell_type": "markdown",
   "id": "d97b94f2-616a-4787-95fa-4d396416351a",
   "metadata": {},
   "source": [
    "***"
   ]
  },
  {
   "cell_type": "markdown",
   "id": "c90f4406-72b3-4cdc-9311-948032026e7f",
   "metadata": {
    "jp-MarkdownHeadingCollapsed": true,
    "tags": []
   },
   "source": [
    "### Add New"
   ]
  },
  {
   "cell_type": "markdown",
   "id": "bbb0f25e-067b-478a-b9d4-7da3e53a84ac",
   "metadata": {},
   "source": [
    "#### - Create new system"
   ]
  },
  {
   "cell_type": "code",
   "execution_count": null,
   "id": "838e3118-921e-490e-b64f-a0038766a087",
   "metadata": {},
   "outputs": [],
   "source": [
    "new_system = System(\n",
    "    id=get_next_free_id(mm.workspace.by_id, 'systems'),\n",
    "    unid=None,\n",
    "    namespace='dedimo',\n",
    "    name='freshservice',\n",
    "    description='The ticket system for IT',\n",
    "    type='external',\n",
    "    config={'url': 'www.freshservice.com'},\n",
    "    created=pendulum.now(tz='Europe/Amsterdam'),\n",
    "    modified=pendulum.now(tz='Europe/Amsterdam')\n",
    ")\n",
    "print(new_system)"
   ]
  },
  {
   "cell_type": "markdown",
   "id": "5554a386-1e98-4917-8f46-3839dbeffd71",
   "metadata": {},
   "source": [
    "#### - Validate new system and add it to workspace"
   ]
  },
  {
   "cell_type": "code",
   "execution_count": null,
   "id": "4ff6630c-54a4-45f0-8bb1-bc31156c0287",
   "metadata": {},
   "outputs": [],
   "source": [
    "mm.add_new_entity(new_system)"
   ]
  },
  {
   "cell_type": "markdown",
   "id": "4b65914d-2bff-4580-9cf1-afe8ece20bb5",
   "metadata": {},
   "source": [
    "#### - Save metadata from workspace to disk"
   ]
  },
  {
   "cell_type": "code",
   "execution_count": 6,
   "id": "6a0e4fa2-6386-4773-b420-867074c88f17",
   "metadata": {},
   "outputs": [],
   "source": [
    "mm.stash_workspace()\n",
    "# mm.store_workspace()"
   ]
  },
  {
   "cell_type": "markdown",
   "id": "c5a40da7-5ea3-4ce4-b017-2b62c7ba1ab9",
   "metadata": {},
   "source": [
    "***"
   ]
  },
  {
   "cell_type": "markdown",
   "id": "369a0301-846a-44a8-881b-21544f10e92d",
   "metadata": {
    "jp-MarkdownHeadingCollapsed": true,
    "tags": []
   },
   "source": [
    "### Edit existing"
   ]
  },
  {
   "cell_type": "markdown",
   "id": "c90035dd-a277-4b30-b4a9-23c789efc7ed",
   "metadata": {},
   "source": [
    "#### - Get the system to edit"
   ]
  },
  {
   "cell_type": "code",
   "execution_count": null,
   "id": "bbafc27d-41ba-4c8a-b613-22fba33be0a4",
   "metadata": {},
   "outputs": [],
   "source": [
    "system_UNID = 'UNID'\n",
    "\n",
    "edited_system = mm.get_entity_by_unid(\n",
    "    entity_type='systems',\n",
    "    unid=system_UNID\n",
    ")\n",
    "print(edited_system)"
   ]
  },
  {
   "cell_type": "markdown",
   "id": "370d54e3-988a-495d-ad3c-253dd5178d4b",
   "metadata": {},
   "source": [
    "#### - Edit the system"
   ]
  },
  {
   "cell_type": "code",
   "execution_count": null,
   "id": "1573147f-72d9-4cdc-a56b-b9197fb32547",
   "metadata": {},
   "outputs": [],
   "source": [
    "edited_system.namespace = 'NEW NAMESPACE UNID'\n",
    "edited_system.name = 'NEW NAME'\n",
    "edited_system.description = 'NEW DESCRIPTION' # None\n",
    "edited_system.type = 'external' # 'internal', 'platform'\n",
    "edited_system.config = {'key': 'value'}\n",
    "\n",
    "print(edited_system)"
   ]
  },
  {
   "cell_type": "markdown",
   "id": "95858db5-a946-4303-aac9-9db10b3bd002",
   "metadata": {},
   "source": [
    "#### - Validate the system and add it to workspace structure"
   ]
  },
  {
   "cell_type": "code",
   "execution_count": null,
   "id": "8b5f3c2e-b07a-41b7-a01f-42a2d568abf4",
   "metadata": {},
   "outputs": [],
   "source": [
    "mm.update_entity(edited_system)"
   ]
  },
  {
   "cell_type": "markdown",
   "id": "5f82332c-f3c0-4d58-a18c-1a69a1aa77e0",
   "metadata": {},
   "source": [
    "#### - Save metadata from workspace to disk"
   ]
  },
  {
   "cell_type": "code",
   "execution_count": null,
   "id": "7e203069-ba35-4b6a-846a-1213c5f741e7",
   "metadata": {
    "tags": []
   },
   "outputs": [],
   "source": [
    "mm.stash_workspace()\n",
    "# mm.store_workspace()"
   ]
  },
  {
   "cell_type": "markdown",
   "id": "b03634c6-e884-4fb1-a14a-c29bc98bd47f",
   "metadata": {},
   "source": [
    "***"
   ]
  },
  {
   "cell_type": "markdown",
   "id": "bb960f44-71d2-4395-b087-03036d1cd55c",
   "metadata": {
    "jp-MarkdownHeadingCollapsed": true,
    "tags": []
   },
   "source": [
    "### Delete"
   ]
  },
  {
   "cell_type": "markdown",
   "id": "032e6183-d6b3-4d2a-9491-ccf72920885a",
   "metadata": {},
   "source": [
    "#### - Specify UNID and inspect system"
   ]
  },
  {
   "cell_type": "code",
   "execution_count": null,
   "id": "d386954c-7684-4590-be2b-174d6800786b",
   "metadata": {},
   "outputs": [],
   "source": [
    "system_UNID_to_delete = 'UNID'\n",
    "\n",
    "system_to_delete = mm.get_entity_by_unid(\n",
    "    entity_type='systems',\n",
    "    unid=system_UNID_to_delete\n",
    ")\n",
    "print(system_to_delete)"
   ]
  },
  {
   "cell_type": "markdown",
   "id": "b9524809-d427-43e4-b05b-1577ffed1dd0",
   "metadata": {},
   "source": [
    "#### - Validate removal of the system and remove it from workspace"
   ]
  },
  {
   "cell_type": "code",
   "execution_count": null,
   "id": "c1412ff8-c115-4cda-94d3-1020b94b2407",
   "metadata": {},
   "outputs": [],
   "source": [
    "report = mm.delete_entity(\n",
    "    entity_type='systems',\n",
    "    unid=system_UNID_to_delete\n",
    ")\n",
    "print(report)"
   ]
  },
  {
   "cell_type": "markdown",
   "id": "74882ab9-e2a4-4008-a2dc-872433e008ee",
   "metadata": {
    "tags": []
   },
   "source": [
    "#### - Save metadata from workspace to disk"
   ]
  },
  {
   "cell_type": "code",
   "execution_count": null,
   "id": "967ce128-5b59-4917-bbbe-e8987f5a6828",
   "metadata": {},
   "outputs": [],
   "source": [
    "mm.stash_workspace()\n",
    "# mm.store_workspace()"
   ]
  },
  {
   "cell_type": "markdown",
   "id": "8220b891-06f9-49e9-89b2-899905c6ce0a",
   "metadata": {},
   "source": [
    "***"
   ]
  },
  {
   "cell_type": "markdown",
   "id": "6c16ff36-530f-4eb0-8fc2-4a4bf822542c",
   "metadata": {
    "jp-MarkdownHeadingCollapsed": true,
    "tags": []
   },
   "source": [
    "## ** Data Entities **"
   ]
  },
  {
   "cell_type": "markdown",
   "id": "c54ba919-2675-420f-84c0-f5b813eda159",
   "metadata": {
    "jp-MarkdownHeadingCollapsed": true,
    "tags": []
   },
   "source": [
    "### View"
   ]
  },
  {
   "cell_type": "code",
   "execution_count": 4,
   "id": "813cb446-420f-4098-971e-5fbc3dae8c34",
   "metadata": {
    "tags": []
   },
   "outputs": [
    {
     "data": {
      "text/html": [
       "<div>\n",
       "<style scoped>\n",
       "    .dataframe tbody tr th:only-of-type {\n",
       "        vertical-align: middle;\n",
       "    }\n",
       "\n",
       "    .dataframe tbody tr th {\n",
       "        vertical-align: top;\n",
       "    }\n",
       "\n",
       "    .dataframe thead th {\n",
       "        text-align: right;\n",
       "    }\n",
       "</style>\n",
       "<table border=\"1\" class=\"dataframe\">\n",
       "  <thead>\n",
       "    <tr style=\"text-align: right;\">\n",
       "      <th></th>\n",
       "      <th>id</th>\n",
       "      <th>unid</th>\n",
       "      <th>namespace</th>\n",
       "      <th>system</th>\n",
       "      <th>name</th>\n",
       "      <th>description</th>\n",
       "      <th>type</th>\n",
       "      <th>interface</th>\n",
       "      <th>entity_schema</th>\n",
       "      <th>checks</th>\n",
       "      <th>config</th>\n",
       "      <th>created</th>\n",
       "      <th>modified</th>\n",
       "    </tr>\n",
       "  </thead>\n",
       "  <tbody>\n",
       "    <tr>\n",
       "      <th>0</th>\n",
       "      <td>1</td>\n",
       "      <td>adhdcentraal.adhdcentraal.medicore.risks_conditions.datasource</td>\n",
       "      <td>adhdcentraal</td>\n",
       "      <td>adhdcentraal.medicore</td>\n",
       "      <td>risks_conditions</td>\n",
       "      <td>Risks and conditions table in medicore</td>\n",
       "      <td>datasource</td>\n",
       "      <td>google_cloud_storage</td>\n",
       "      <td>medicore_risks_conditions_datasource.1</td>\n",
       "      <td>[]</td>\n",
       "      <td>None</td>\n",
       "      <td>2022-09-10 06:56:07+00:00</td>\n",
       "      <td>2022-10-14 14:42:00+00:00</td>\n",
       "    </tr>\n",
       "    <tr>\n",
       "      <th>1</th>\n",
       "      <td>2</td>\n",
       "      <td>adhdcentraal.dataplatform.google_bigquery.risks_conditions.dataset</td>\n",
       "      <td>adhdcentraal</td>\n",
       "      <td>dataplatform.google_bigquery</td>\n",
       "      <td>risks_conditions</td>\n",
       "      <td>Production dwh table for medicore riscs and conditions</td>\n",
       "      <td>dataset</td>\n",
       "      <td>sql</td>\n",
       "      <td>medicore_risks_conditions_core.1</td>\n",
       "      <td>[]</td>\n",
       "      <td>{'table': 'risks_conditions', 'dataset': 'adhdcentraal_medicore', 'projectid': 'dedimo-dataplatform'}</td>\n",
       "      <td>2022-09-10 06:56:07+00:00</td>\n",
       "      <td>2022-09-10 06:56:07+00:00</td>\n",
       "    </tr>\n",
       "  </tbody>\n",
       "</table>\n",
       "</div>"
      ],
      "text/plain": [
       "   id                                                                unid  \\\n",
       "0   1      adhdcentraal.adhdcentraal.medicore.risks_conditions.datasource   \n",
       "1   2  adhdcentraal.dataplatform.google_bigquery.risks_conditions.dataset   \n",
       "\n",
       "      namespace                        system              name  \\\n",
       "0  adhdcentraal         adhdcentraal.medicore  risks_conditions   \n",
       "1  adhdcentraal  dataplatform.google_bigquery  risks_conditions   \n",
       "\n",
       "                                              description        type  \\\n",
       "0                  Risks and conditions table in medicore  datasource   \n",
       "1  Production dwh table for medicore riscs and conditions     dataset   \n",
       "\n",
       "              interface                           entity_schema checks  \\\n",
       "0  google_cloud_storage  medicore_risks_conditions_datasource.1     []   \n",
       "1                   sql        medicore_risks_conditions_core.1     []   \n",
       "\n",
       "                                                                                                  config  \\\n",
       "0                                                                                                   None   \n",
       "1  {'table': 'risks_conditions', 'dataset': 'adhdcentraal_medicore', 'projectid': 'dedimo-dataplatform'}   \n",
       "\n",
       "                    created                  modified  \n",
       "0 2022-09-10 06:56:07+00:00 2022-10-14 14:42:00+00:00  \n",
       "1 2022-09-10 06:56:07+00:00 2022-09-10 06:56:07+00:00  "
      ]
     },
     "execution_count": 4,
     "metadata": {},
     "output_type": "execute_result"
    }
   ],
   "source": [
    "mm.workspace.view['data_entities']"
   ]
  },
  {
   "cell_type": "markdown",
   "id": "beab942f-8087-4b9e-b95d-766b79f37cea",
   "metadata": {},
   "source": [
    "***"
   ]
  },
  {
   "cell_type": "markdown",
   "id": "3c97527a-922c-4c56-96be-5762b3e57937",
   "metadata": {
    "jp-MarkdownHeadingCollapsed": true,
    "tags": []
   },
   "source": [
    "### Add New"
   ]
  },
  {
   "cell_type": "markdown",
   "id": "6e6e374e-f8ee-48db-85a8-694ef0ec21f3",
   "metadata": {},
   "source": [
    "#### - Create new data entity"
   ]
  },
  {
   "cell_type": "code",
   "execution_count": null,
   "id": "02be1d95-5c4c-4ec5-94ff-bf4082c6fcc3",
   "metadata": {},
   "outputs": [],
   "source": [
    "new_data_entity = Data_entity(\n",
    "    id=get_next_free_id(mm.workspace.by_id, 'data_entities'),\n",
    "    unid=None,\n",
    "    namespace='dedimo',\n",
    "    system='dedimo.freshservice',\n",
    "    name='tickets',\n",
    "    description='Those little things that cause work.',\n",
    "    type='datasource',\n",
    "    interface='api_rest',\n",
    "    entity_schema='test.1',\n",
    "    checks=[],\n",
    "    config={'table': 'tickets'},\n",
    "    created=pendulum.now(tz='Europe/Amsterdam'),\n",
    "    modified=pendulum.now(tz='Europe/Amsterdam')\n",
    ")\n",
    "print(new_data_entity)"
   ]
  },
  {
   "cell_type": "markdown",
   "id": "53270ad7-5f6a-4e3b-b023-399f104a68d0",
   "metadata": {},
   "source": [
    "#### - Validate new data entity and add it to workspace"
   ]
  },
  {
   "cell_type": "code",
   "execution_count": null,
   "id": "e831b36e-509c-46d9-9147-7bef92f2391c",
   "metadata": {},
   "outputs": [],
   "source": [
    "mm.add_new_entity(new_data_entity)"
   ]
  },
  {
   "cell_type": "markdown",
   "id": "efbb15b2-e636-4265-bb03-695aed2ac97c",
   "metadata": {},
   "source": [
    "#### - Save metadata from workspace to disk"
   ]
  },
  {
   "cell_type": "code",
   "execution_count": 6,
   "id": "e19fc6f7-82ed-4041-9d75-190902ff8e4c",
   "metadata": {},
   "outputs": [],
   "source": [
    "mm.stash_workspace()\n",
    "# mm.store_workspace()"
   ]
  },
  {
   "cell_type": "markdown",
   "id": "41a5b779-fe18-48a7-99b0-54e1b77f0c00",
   "metadata": {},
   "source": [
    "***"
   ]
  },
  {
   "cell_type": "markdown",
   "id": "c7120507-2910-4343-8ee6-33fd55ce246c",
   "metadata": {
    "jp-MarkdownHeadingCollapsed": true,
    "tags": []
   },
   "source": [
    "### Edit existing"
   ]
  },
  {
   "cell_type": "markdown",
   "id": "174a13fe-e2e4-445c-be0f-0d111325a238",
   "metadata": {},
   "source": [
    "#### - Get the data_entity to edit"
   ]
  },
  {
   "cell_type": "code",
   "execution_count": null,
   "id": "5eb048ce-a070-4b48-896e-4be5682773aa",
   "metadata": {},
   "outputs": [],
   "source": [
    "data_entity_UNID = 'UNID'\n",
    "\n",
    "edited_data_entity = mm.get_entity_by_unid(\n",
    "    entity_type='data_entities',\n",
    "    unid=data_entity_UNID\n",
    ")\n",
    "print(edited_data_entity)"
   ]
  },
  {
   "cell_type": "markdown",
   "id": "8c3c184a-158d-4665-88a5-98c2382580af",
   "metadata": {},
   "source": [
    "#### - Edit the data_entity"
   ]
  },
  {
   "cell_type": "code",
   "execution_count": null,
   "id": "65168156-c6cd-49da-a4ee-ce4c603c2afc",
   "metadata": {},
   "outputs": [],
   "source": [
    "edited_data_entity.namespace = 'NEW NAMESPACE UNID'\n",
    "edited_data_entity.system = 'NEW SYSTEM UNID'\n",
    "edited_data_entity.name = 'NEW NAME'\n",
    "edited_data_entity.description = 'NEW DESCRIPTION' # None\n",
    "edited_data_entity.type = 'datasource'\n",
    "edited_data_entity.interface = 'api_rest'\n",
    "edited_data_entity.entity_schema = 'NEW SCHEMA UNID'\n",
    "edited_data_entity.checks=[]\n",
    "edited_data_entity.config={'key': 'value'} # None\n",
    "\n",
    "print(edited_data_entity)"
   ]
  },
  {
   "cell_type": "markdown",
   "id": "c73b6151-a557-4e54-8667-d08b262e6836",
   "metadata": {},
   "source": [
    "#### - Validate the data_entity and add it to workspace structure"
   ]
  },
  {
   "cell_type": "code",
   "execution_count": null,
   "id": "7a5a7458-d169-4211-8921-760d493d6139",
   "metadata": {},
   "outputs": [],
   "source": [
    "mm.update_entity(edited_data_entity)"
   ]
  },
  {
   "cell_type": "markdown",
   "id": "02a9a78d-64ad-42c1-af61-5f225534174f",
   "metadata": {},
   "source": [
    "#### - Save metadata from workspace to disk"
   ]
  },
  {
   "cell_type": "code",
   "execution_count": null,
   "id": "e7b7a6d2-04c7-4528-af4f-1423ee9ef737",
   "metadata": {
    "tags": []
   },
   "outputs": [],
   "source": [
    "mm.stash_workspace()\n",
    "# mm.store_workspace()"
   ]
  },
  {
   "cell_type": "markdown",
   "id": "0560ad95-43a3-4472-aee5-066bc68dde19",
   "metadata": {},
   "source": [
    "***"
   ]
  },
  {
   "cell_type": "markdown",
   "id": "c012504b-d53b-44e5-b676-cfc4d6dd06d8",
   "metadata": {
    "jp-MarkdownHeadingCollapsed": true,
    "tags": []
   },
   "source": [
    "### Delete"
   ]
  },
  {
   "cell_type": "markdown",
   "id": "11caf233-325e-436e-895d-f6e168f9fcbd",
   "metadata": {},
   "source": [
    "#### - Specify UNID and inspect data_entity"
   ]
  },
  {
   "cell_type": "code",
   "execution_count": null,
   "id": "fed40919-c6f8-4b71-af5f-6cf3e2556ea9",
   "metadata": {},
   "outputs": [],
   "source": [
    "data_entity_UNID_to_delete = 'UNID'\n",
    "\n",
    "data_entity_to_delete = mm.get_entity_by_unid(\n",
    "    entity_type='data_entities',\n",
    "    unid=data_entity_UNID_to_delete\n",
    ")\n",
    "print(data_entity_to_delete)"
   ]
  },
  {
   "cell_type": "markdown",
   "id": "8706ad8c-462b-4e64-8fb6-a4268d38613a",
   "metadata": {},
   "source": [
    "#### - Validate removal of the data_entity and remove it from workspace"
   ]
  },
  {
   "cell_type": "code",
   "execution_count": null,
   "id": "77396fbb-0f53-4b0b-843b-4ee6c476e092",
   "metadata": {},
   "outputs": [],
   "source": [
    "report = mm.delete_entity(\n",
    "    entity_type='data_entities',\n",
    "    unid=data_entity_UNID_to_delete\n",
    ")\n",
    "print(report)"
   ]
  },
  {
   "cell_type": "markdown",
   "id": "f068a757-3098-4490-826b-2fce0820dcd9",
   "metadata": {
    "tags": []
   },
   "source": [
    "#### - Save metadata from workspace to disk"
   ]
  },
  {
   "cell_type": "code",
   "execution_count": null,
   "id": "f04091f3-19ef-43c3-b54b-4eb29a071f7c",
   "metadata": {},
   "outputs": [],
   "source": [
    "mm.stash_workspace()\n",
    "# mm.store_workspace()"
   ]
  },
  {
   "cell_type": "markdown",
   "id": "d28d2746-ead0-4230-8348-b8e08ac70e08",
   "metadata": {},
   "source": [
    "***"
   ]
  },
  {
   "cell_type": "markdown",
   "id": "877ed7df-9246-49f7-89cd-e3a48733ad27",
   "metadata": {
    "jp-MarkdownHeadingCollapsed": true,
    "tags": []
   },
   "source": [
    "## ** Pipelines **"
   ]
  },
  {
   "cell_type": "markdown",
   "id": "f1a19a67-c88b-45b5-b724-db2076661813",
   "metadata": {
    "jp-MarkdownHeadingCollapsed": true,
    "tags": []
   },
   "source": [
    "### View"
   ]
  },
  {
   "cell_type": "code",
   "execution_count": 10,
   "id": "74c79481-f9ed-4efd-b49f-1e94d3f56666",
   "metadata": {
    "tags": []
   },
   "outputs": [
    {
     "data": {
      "text/html": [
       "<div>\n",
       "<style scoped>\n",
       "    .dataframe tbody tr th:only-of-type {\n",
       "        vertical-align: middle;\n",
       "    }\n",
       "\n",
       "    .dataframe tbody tr th {\n",
       "        vertical-align: top;\n",
       "    }\n",
       "\n",
       "    .dataframe thead th {\n",
       "        text-align: right;\n",
       "    }\n",
       "</style>\n",
       "<table border=\"1\" class=\"dataframe\">\n",
       "  <thead>\n",
       "    <tr style=\"text-align: right;\">\n",
       "      <th></th>\n",
       "      <th>id</th>\n",
       "      <th>unid</th>\n",
       "      <th>namespace</th>\n",
       "      <th>name</th>\n",
       "      <th>description</th>\n",
       "      <th>enabled</th>\n",
       "      <th>version</th>\n",
       "      <th>scope</th>\n",
       "      <th>type</th>\n",
       "      <th>velocity</th>\n",
       "      <th>input_output</th>\n",
       "      <th>config</th>\n",
       "      <th>created</th>\n",
       "      <th>modified</th>\n",
       "    </tr>\n",
       "  </thead>\n",
       "  <tbody>\n",
       "    <tr>\n",
       "      <th>0</th>\n",
       "      <td>1</td>\n",
       "      <td>adhdcentraal.medicore_reports_pad.ingest.1</td>\n",
       "      <td>adhdcentraal</td>\n",
       "      <td>medicore_reports_pad</td>\n",
       "      <td>Ingest pipeline for medicore via its reports interface and PAD.</td>\n",
       "      <td>True</td>\n",
       "      <td>1</td>\n",
       "      <td>compound</td>\n",
       "      <td>ingest</td>\n",
       "      <td>batch</td>\n",
       "      <td>[{'input': ['adhdcentraal.adhdcentraal.medicore.risks_conditions.datasource'], 'output': ['adhdcentraal.dataplatform.google_bigquery.risks_conditions.dataset']}]</td>\n",
       "      <td>None</td>\n",
       "      <td>2022-09-10 06:56:07+00:00</td>\n",
       "      <td>2022-10-07 16:07:38+00:00</td>\n",
       "    </tr>\n",
       "  </tbody>\n",
       "</table>\n",
       "</div>"
      ],
      "text/plain": [
       "   id                                        unid     namespace  \\\n",
       "0   1  adhdcentraal.medicore_reports_pad.ingest.1  adhdcentraal   \n",
       "\n",
       "                   name  \\\n",
       "0  medicore_reports_pad   \n",
       "\n",
       "                                                       description  enabled  \\\n",
       "0  Ingest pipeline for medicore via its reports interface and PAD.     True   \n",
       "\n",
       "   version     scope    type velocity  \\\n",
       "0        1  compound  ingest    batch   \n",
       "\n",
       "                                                                                                                                                        input_output  \\\n",
       "0  [{'input': ['adhdcentraal.adhdcentraal.medicore.risks_conditions.datasource'], 'output': ['adhdcentraal.dataplatform.google_bigquery.risks_conditions.dataset']}]   \n",
       "\n",
       "  config                   created                  modified  \n",
       "0   None 2022-09-10 06:56:07+00:00 2022-10-07 16:07:38+00:00  "
      ]
     },
     "execution_count": 10,
     "metadata": {},
     "output_type": "execute_result"
    }
   ],
   "source": [
    "mm.workspace.view['pipelines']"
   ]
  },
  {
   "cell_type": "markdown",
   "id": "d72dc2e1-5c46-49ac-87d8-7b7b3199dc72",
   "metadata": {},
   "source": [
    "***"
   ]
  },
  {
   "cell_type": "markdown",
   "id": "fe6578f8-ae8b-4df8-9d05-5b24375b809c",
   "metadata": {
    "jp-MarkdownHeadingCollapsed": true,
    "tags": []
   },
   "source": [
    "### Add New"
   ]
  },
  {
   "cell_type": "markdown",
   "id": "fee99345-ac8d-4a0c-88f6-f7df4b8b6a48",
   "metadata": {},
   "source": [
    "#### - Create new pipeline"
   ]
  },
  {
   "cell_type": "code",
   "execution_count": null,
   "id": "d56335af-456c-4c86-98f3-b081ca14f376",
   "metadata": {},
   "outputs": [],
   "source": [
    "new_pipeline = Pipeline(\n",
    "    id=get_next_free_id(mm.workspace.by_id, 'pipelines'),\n",
    "    unid=None,\n",
    "    namespace='dedimo',\n",
    "    name='testest',\n",
    "    description='Ingest pipeline for freshservice',\n",
    "    enabled=True,\n",
    "    version=1,\n",
    "    scope='single',\n",
    "    type='ingest',\n",
    "    velocity='batch',\n",
    "    input_output=[\n",
    "        {'input':['adhdcentraal.adhdcentraal.medicore.risks_conditions.datasource'], 'output':['adhdcentraal.dataplatform.google_bigquery.risks_conditions.dataset']}\n",
    "    ],\n",
    "    config={'apiversion': 'beta'},\n",
    "    created=pendulum.now(tz='Europe/Amsterdam'),\n",
    "    modified=pendulum.now(tz='Europe/Amsterdam')\n",
    ")\n",
    "print(new_pipeline)"
   ]
  },
  {
   "cell_type": "markdown",
   "id": "6960b4ad-bf8a-4b1d-b8bf-e70fe0aee7c6",
   "metadata": {},
   "source": [
    "#### - Validate new pipeline and add it to workspace"
   ]
  },
  {
   "cell_type": "code",
   "execution_count": null,
   "id": "f81987f1-bda4-4599-8794-f8c3e4068059",
   "metadata": {},
   "outputs": [],
   "source": [
    "mm.add_new_entity(new_pipeline)"
   ]
  },
  {
   "cell_type": "markdown",
   "id": "93b4bd71-ccf6-4ebc-a111-815862f9d14e",
   "metadata": {},
   "source": [
    "#### - Save metadata from workspace to disk"
   ]
  },
  {
   "cell_type": "code",
   "execution_count": 12,
   "id": "9a68546d-1e89-4c9f-8f9a-9c43a7838d0b",
   "metadata": {},
   "outputs": [
    {
     "data": {
      "text/html": [
       "<pre style=\"white-space:pre;overflow-x:auto;line-height:normal;font-family:Menlo,'DejaVu Sans Mono',consolas,'Courier New',monospace\">Writing all metadata in Workspace to Stash.\n",
       "</pre>\n"
      ],
      "text/plain": [
       "Writing all metadata in Workspace to Stash.\n"
      ]
     },
     "metadata": {},
     "output_type": "display_data"
    },
    {
     "data": {
      "text/html": [
       "<pre style=\"white-space:pre;overflow-x:auto;line-height:normal;font-family:Menlo,'DejaVu Sans Mono',consolas,'Courier New',monospace\">Write complete\n",
       "</pre>\n"
      ],
      "text/plain": [
       "Write complete\n"
      ]
     },
     "metadata": {},
     "output_type": "display_data"
    },
    {
     "data": {
      "text/plain": [
       "True"
      ]
     },
     "execution_count": 12,
     "metadata": {},
     "output_type": "execute_result"
    }
   ],
   "source": [
    "mm.stash_workspace()\n",
    "# mm.store_workspace()"
   ]
  },
  {
   "cell_type": "markdown",
   "id": "851de6a3-3b0f-4803-b33b-961c0b21b9a6",
   "metadata": {},
   "source": [
    "***"
   ]
  },
  {
   "cell_type": "markdown",
   "id": "3029eac6-19c2-4203-8db6-858557de3ba4",
   "metadata": {
    "jp-MarkdownHeadingCollapsed": true,
    "tags": []
   },
   "source": [
    "### Edit existing"
   ]
  },
  {
   "cell_type": "markdown",
   "id": "bb94cf23-4568-47c8-82e2-ea123ce400ad",
   "metadata": {
    "jp-MarkdownHeadingCollapsed": true
   },
   "source": [
    "#### - Get the pipeline to edit"
   ]
  },
  {
   "cell_type": "code",
   "execution_count": null,
   "id": "dff36d6b-57b0-476c-a686-3ee2e059676f",
   "metadata": {},
   "outputs": [],
   "source": [
    "pipeline_UNID = 'UNID'\n",
    "\n",
    "edited_pipeline = mm.get_entity_by_unid(\n",
    "    entity_type='pipelines',\n",
    "    unid=pipeline_UNID\n",
    ")\n",
    "print(edited_pipeline)"
   ]
  },
  {
   "cell_type": "markdown",
   "id": "f5a706a5-928a-4383-9570-e1f5fe2d4a4c",
   "metadata": {
    "jp-MarkdownHeadingCollapsed": true
   },
   "source": [
    "#### - Edit the pipeline"
   ]
  },
  {
   "cell_type": "code",
   "execution_count": null,
   "id": "bc2c9dc5-bfc5-470a-ab6b-2f6388c27dc6",
   "metadata": {},
   "outputs": [],
   "source": [
    "edited_pipeline.namespace = 'NEW NAMESPACE UNID'\n",
    "edited_pipeline.name = 'NEW NAME'\n",
    "edited_pipeline.description = 'NEW DESCRIPTION' # None\n",
    "edited_pipeline.enabled = True # False\n",
    "edited_pipeline.version = edited_pipeline.version + 1\n",
    "edited_pipeline.scope = 'compound' # 'single'\n",
    "edited_pipeline.type = 'ingest' # 'transform', 'delivery'\n",
    "edited_pipeline.velocity = 'batch' # 'streaming'\n",
    "edited_pipeline.input_output = [\n",
    "    {'input':'ENTITY_UNID_INPUT', 'output':'ENTITY_UNID_OUTPUT'}\n",
    "] # {'input':['ENTITY_UNID_INPUT_1', 'ENTITY_UNID_INPUT_2'], 'output':['ENTITY_UNID_OUTPUT_1', 'ENTITY_UNID_OUTPUT_2']}\n",
    "edited_pipeline.config={'key': 'value'} # None\n",
    "\n",
    "print(edited_pipeline)"
   ]
  },
  {
   "cell_type": "markdown",
   "id": "ee1abf3f-bcc8-45da-9b9b-829c356ecebc",
   "metadata": {
    "jp-MarkdownHeadingCollapsed": true
   },
   "source": [
    "#### - Validate the pipeline and add it to workspace structure"
   ]
  },
  {
   "cell_type": "code",
   "execution_count": null,
   "id": "8510c9c8-7466-434d-96a0-27201b0d755c",
   "metadata": {},
   "outputs": [],
   "source": [
    "mm.update_entity(edited_pipeline)"
   ]
  },
  {
   "cell_type": "markdown",
   "id": "0255b7cd-9510-4a51-97b9-c1a0e1ab2e20",
   "metadata": {
    "jp-MarkdownHeadingCollapsed": true
   },
   "source": [
    "#### - Save metadata from workspace to disk"
   ]
  },
  {
   "cell_type": "code",
   "execution_count": null,
   "id": "4b462f12-99e8-45d4-a36a-6ee90160eea3",
   "metadata": {
    "tags": []
   },
   "outputs": [],
   "source": [
    "mm.stash_workspace()\n",
    "# mm.store_workspace()"
   ]
  },
  {
   "cell_type": "markdown",
   "id": "b439fdef-099a-4361-bdb3-7119ae167380",
   "metadata": {},
   "source": [
    "***"
   ]
  },
  {
   "cell_type": "markdown",
   "id": "9c62361b-ae62-4ee2-80b6-57929cd2040c",
   "metadata": {
    "jp-MarkdownHeadingCollapsed": true,
    "tags": []
   },
   "source": [
    "### Delete"
   ]
  },
  {
   "cell_type": "markdown",
   "id": "ed1b464d-b9e9-452d-b947-f96c64dfdcf3",
   "metadata": {},
   "source": [
    "#### - Specify UNID and inspect the pipeline"
   ]
  },
  {
   "cell_type": "code",
   "execution_count": null,
   "id": "cb805bad-4243-4505-8445-caba0a3720b6",
   "metadata": {},
   "outputs": [],
   "source": [
    "pipeline_UNID_to_delete = 'UNID'\n",
    "\n",
    "pipeline_to_delete = mm.get_entity_by_unid(\n",
    "    entity_type='pipelines',\n",
    "    unid=pipeline_UNID_to_delete\n",
    ")\n",
    "print(pipeline_to_delete)"
   ]
  },
  {
   "cell_type": "markdown",
   "id": "2661527e-f069-42a8-bc38-590df05ab777",
   "metadata": {},
   "source": [
    "#### - Validate removal of the pipeline and remove it from workspace"
   ]
  },
  {
   "cell_type": "code",
   "execution_count": null,
   "id": "5b1c6680-36bb-47bf-8510-7e16d7968d4e",
   "metadata": {},
   "outputs": [],
   "source": [
    "report = mm.delete_entity(\n",
    "    entity_type='pipelines',\n",
    "    unid=pipeline_UNID_to_delete\n",
    ")\n",
    "print(report)"
   ]
  },
  {
   "cell_type": "markdown",
   "id": "113ecd13-2d71-4155-81de-5d8f0b26d361",
   "metadata": {
    "tags": []
   },
   "source": [
    "#### - Save metadata from workspace to disk"
   ]
  },
  {
   "cell_type": "code",
   "execution_count": null,
   "id": "da99d741-6c0b-4bac-8648-1afc0b291bf6",
   "metadata": {},
   "outputs": [],
   "source": [
    "mm.stash_workspace()\n",
    "# mm.store_workspace()"
   ]
  },
  {
   "cell_type": "markdown",
   "id": "26f754fe-5630-461a-99ac-08193e27e8d9",
   "metadata": {},
   "source": [
    "***"
   ]
  },
  {
   "cell_type": "markdown",
   "id": "e104520d-4020-483f-a3c9-819101675ce9",
   "metadata": {
    "jp-MarkdownHeadingCollapsed": true,
    "tags": []
   },
   "source": [
    "## ** Config for DAGs and scripts **"
   ]
  },
  {
   "cell_type": "markdown",
   "id": "c9c163e4-a80d-4c43-a43a-e012ba631223",
   "metadata": {
    "jp-MarkdownHeadingCollapsed": true,
    "tags": []
   },
   "source": [
    "#### - View pipelines"
   ]
  },
  {
   "cell_type": "code",
   "execution_count": 11,
   "id": "b28bc8c5-6b0a-40ad-b2dd-d98016e18c39",
   "metadata": {
    "tags": []
   },
   "outputs": [
    {
     "data": {
      "text/html": [
       "<div>\n",
       "<style scoped>\n",
       "    .dataframe tbody tr th:only-of-type {\n",
       "        vertical-align: middle;\n",
       "    }\n",
       "\n",
       "    .dataframe tbody tr th {\n",
       "        vertical-align: top;\n",
       "    }\n",
       "\n",
       "    .dataframe thead th {\n",
       "        text-align: right;\n",
       "    }\n",
       "</style>\n",
       "<table border=\"1\" class=\"dataframe\">\n",
       "  <thead>\n",
       "    <tr style=\"text-align: right;\">\n",
       "      <th></th>\n",
       "      <th>id</th>\n",
       "      <th>unid</th>\n",
       "      <th>namespace</th>\n",
       "      <th>name</th>\n",
       "      <th>description</th>\n",
       "      <th>enabled</th>\n",
       "      <th>version</th>\n",
       "      <th>scope</th>\n",
       "      <th>type</th>\n",
       "      <th>velocity</th>\n",
       "      <th>input_output</th>\n",
       "      <th>config</th>\n",
       "      <th>created</th>\n",
       "      <th>modified</th>\n",
       "    </tr>\n",
       "  </thead>\n",
       "  <tbody>\n",
       "    <tr>\n",
       "      <th>0</th>\n",
       "      <td>1</td>\n",
       "      <td>adhdcentraal.medicore_reports_pad.ingest.1</td>\n",
       "      <td>adhdcentraal</td>\n",
       "      <td>medicore_reports_pad</td>\n",
       "      <td>Ingest pipeline for medicore via its reports interface and PAD.</td>\n",
       "      <td>True</td>\n",
       "      <td>1</td>\n",
       "      <td>compound</td>\n",
       "      <td>ingest</td>\n",
       "      <td>batch</td>\n",
       "      <td>[{'input': ['adhdcentraal.adhdcentraal.medicore.risks_conditions.datasource'], 'output': ['adhdcentraal.dataplatform.google_bigquery.risks_conditions.dataset']}]</td>\n",
       "      <td>None</td>\n",
       "      <td>2022-09-10 06:56:07+00:00</td>\n",
       "      <td>2022-10-07 16:07:38+00:00</td>\n",
       "    </tr>\n",
       "  </tbody>\n",
       "</table>\n",
       "</div>"
      ],
      "text/plain": [
       "   id                                        unid     namespace  \\\n",
       "0   1  adhdcentraal.medicore_reports_pad.ingest.1  adhdcentraal   \n",
       "\n",
       "                   name  \\\n",
       "0  medicore_reports_pad   \n",
       "\n",
       "                                                       description  enabled  \\\n",
       "0  Ingest pipeline for medicore via its reports interface and PAD.     True   \n",
       "\n",
       "   version     scope    type velocity  \\\n",
       "0        1  compound  ingest    batch   \n",
       "\n",
       "                                                                                                                                                        input_output  \\\n",
       "0  [{'input': ['adhdcentraal.adhdcentraal.medicore.risks_conditions.datasource'], 'output': ['adhdcentraal.dataplatform.google_bigquery.risks_conditions.dataset']}]   \n",
       "\n",
       "  config                   created                  modified  \n",
       "0   None 2022-09-10 06:56:07+00:00 2022-10-07 16:07:38+00:00  "
      ]
     },
     "execution_count": 11,
     "metadata": {},
     "output_type": "execute_result"
    }
   ],
   "source": [
    "mm.workspace.view['pipelines']"
   ]
  },
  {
   "cell_type": "markdown",
   "id": "ad1c8885-6148-46d1-a3a8-063a7bf9c42d",
   "metadata": {
    "jp-MarkdownHeadingCollapsed": true,
    "tags": []
   },
   "source": [
    "#### - Inspect an instance's complete, flat config"
   ]
  },
  {
   "cell_type": "code",
   "execution_count": null,
   "id": "07e09fda-01a5-435e-bfc7-0fa20a4ced42",
   "metadata": {},
   "outputs": [],
   "source": [
    "pl_unid = 'adhdcentraal.medicore_reports_pad.ingest.1'\n",
    "instance_nr = 0\n",
    "\n",
    "deep_by_unid = {pl.unid: pl for pl in mm.workspace.integrated}\n",
    "\n",
    "c = flatten_instance(\n",
    "    pipeline=deep_by_unid[pl_unid],\n",
    "    instance_nr=instance_nr,\n",
    "    objectify_output=False\n",
    ")\n",
    "print(c)"
   ]
  }
 ],
 "metadata": {
  "environment": {
   "kernel": "python3",
   "name": "common-cpu.m117",
   "type": "gcloud",
   "uri": "us-docker.pkg.dev/deeplearning-platform-release/gcr.io/base-cpu:m117"
  },
  "kernelspec": {
   "display_name": "Python 3 (ipykernel)",
   "language": "python",
   "name": "python3"
  },
  "language_info": {
   "codemirror_mode": {
    "name": "ipython",
    "version": 3
   },
   "file_extension": ".py",
   "mimetype": "text/x-python",
   "name": "python",
   "nbconvert_exporter": "python",
   "pygments_lexer": "ipython3",
   "version": "3.10.12"
  }
 },
 "nbformat": 4,
 "nbformat_minor": 5
}
