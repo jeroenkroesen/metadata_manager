{
 "cells": [
  {
   "cell_type": "markdown",
   "id": "2c6e12cd-5e65-47f1-a3d0-191091480d39",
   "metadata": {},
   "source": [
    "# Metadata Manager"
   ]
  },
  {
   "cell_type": "markdown",
   "id": "64f171aa-a691-487e-8340-95a618a556c0",
   "metadata": {
    "tags": []
   },
   "source": [
    "## Config"
   ]
  },
  {
   "cell_type": "code",
   "execution_count": 1,
   "id": "8e9120d0-cb9f-4bd0-894c-ca9a3f4e318a",
   "metadata": {},
   "outputs": [],
   "source": [
    "metadata_folder = '../metadata'\n",
    "metadata_repo_location = '../metadata/metadata'\n",
    "metadata_stash_folder = '../metadata/stash'\n",
    "load_workspace_from = 'store' # 'stash' or 'store'"
   ]
  },
  {
   "cell_type": "markdown",
   "id": "c9e4c990-d7e7-4b10-bca4-6e9710a125b6",
   "metadata": {},
   "source": [
    "## Load and validate"
   ]
  },
  {
   "cell_type": "code",
   "execution_count": 2,
   "id": "08793b72-a180-46d3-84a0-a79cd6157d07",
   "metadata": {
    "jupyter": {
     "source_hidden": true
    },
    "tags": []
   },
   "outputs": [
    {
     "data": {
      "text/html": [
       "<pre style=\"white-space:pre;overflow-x:auto;line-height:normal;font-family:Menlo,'DejaVu Sans Mono',consolas,'Courier New',monospace\"><span style=\"font-weight: bold\">Checking Root</span>\n",
       "</pre>\n"
      ],
      "text/plain": [
       "\u001b[1mChecking Root\u001b[0m\n"
      ]
     },
     "metadata": {},
     "output_type": "display_data"
    },
    {
     "data": {
      "text/html": [
       "<pre style=\"white-space:pre;overflow-x:auto;line-height:normal;font-family:Menlo,'DejaVu Sans Mono',consolas,'Courier New',monospace\">Folder: <span style=\"color: #ffffff; text-decoration-color: #ffffff\">/home/jeroen/02-local/dev/dataplatform/metadata</span>\n",
       "</pre>\n"
      ],
      "text/plain": [
       "Folder: \u001b[97m/home/jeroen/02-local/dev/dataplatform/\u001b[0m\u001b[97mmetadata\u001b[0m\n"
      ]
     },
     "metadata": {},
     "output_type": "display_data"
    },
    {
     "data": {
      "text/html": [
       "<pre style=\"white-space:pre;overflow-x:auto;line-height:normal;font-family:Menlo,'DejaVu Sans Mono',consolas,'Courier New',monospace\"><span style=\"color: #00ff00; text-decoration-color: #00ff00\">Root </span><span style=\"color: #00ff00; text-decoration-color: #00ff00; font-weight: bold\">exists</span>\n",
       "</pre>\n"
      ],
      "text/plain": [
       "\u001b[92mRoot \u001b[0m\u001b[1;92mexists\u001b[0m\n"
      ]
     },
     "metadata": {},
     "output_type": "display_data"
    },
    {
     "data": {
      "text/html": [
       "<pre style=\"white-space:pre;overflow-x:auto;line-height:normal;font-family:Menlo,'DejaVu Sans Mono',consolas,'Courier New',monospace\">\n",
       "</pre>\n"
      ],
      "text/plain": [
       "\n"
      ]
     },
     "metadata": {},
     "output_type": "display_data"
    },
    {
     "data": {
      "text/html": [
       "<pre style=\"white-space:pre;overflow-x:auto;line-height:normal;font-family:Menlo,'DejaVu Sans Mono',consolas,'Courier New',monospace\"><span style=\"font-weight: bold\">Checking Repo</span>\n",
       "</pre>\n"
      ],
      "text/plain": [
       "\u001b[1mChecking Repo\u001b[0m\n"
      ]
     },
     "metadata": {},
     "output_type": "display_data"
    },
    {
     "data": {
      "text/html": [
       "<pre style=\"white-space:pre;overflow-x:auto;line-height:normal;font-family:Menlo,'DejaVu Sans Mono',consolas,'Courier New',monospace\">Folder: <span style=\"color: #ffffff; text-decoration-color: #ffffff\">/home/jeroen/02-local/dev/dataplatform/metadata/metadata</span>\n",
       "</pre>\n"
      ],
      "text/plain": [
       "Folder: \u001b[97m/home/jeroen/02-local/dev/dataplatform/metadata/\u001b[0m\u001b[97mmetadata\u001b[0m\n"
      ]
     },
     "metadata": {},
     "output_type": "display_data"
    },
    {
     "data": {
      "text/html": [
       "<pre style=\"white-space:pre;overflow-x:auto;line-height:normal;font-family:Menlo,'DejaVu Sans Mono',consolas,'Courier New',monospace\"><span style=\"color: #00ff00; text-decoration-color: #00ff00\">Repo </span><span style=\"color: #00ff00; text-decoration-color: #00ff00; font-weight: bold\">exists</span>\n",
       "</pre>\n"
      ],
      "text/plain": [
       "\u001b[92mRepo \u001b[0m\u001b[1;92mexists\u001b[0m\n"
      ]
     },
     "metadata": {},
     "output_type": "display_data"
    },
    {
     "data": {
      "text/html": [
       "<pre style=\"white-space:pre;overflow-x:auto;line-height:normal;font-family:Menlo,'DejaVu Sans Mono',consolas,'Courier New',monospace\">\n",
       "</pre>\n"
      ],
      "text/plain": [
       "\n"
      ]
     },
     "metadata": {},
     "output_type": "display_data"
    },
    {
     "data": {
      "text/html": [
       "<pre style=\"white-space:pre;overflow-x:auto;line-height:normal;font-family:Menlo,'DejaVu Sans Mono',consolas,'Courier New',monospace\"><span style=\"font-weight: bold\">Checking Stash</span>\n",
       "</pre>\n"
      ],
      "text/plain": [
       "\u001b[1mChecking Stash\u001b[0m\n"
      ]
     },
     "metadata": {},
     "output_type": "display_data"
    },
    {
     "data": {
      "text/html": [
       "<pre style=\"white-space:pre;overflow-x:auto;line-height:normal;font-family:Menlo,'DejaVu Sans Mono',consolas,'Courier New',monospace\">Folder: <span style=\"color: #ffffff; text-decoration-color: #ffffff\">/home/jeroen/02-local/dev/dataplatform/metadata/stash</span>\n",
       "</pre>\n"
      ],
      "text/plain": [
       "Folder: \u001b[97m/home/jeroen/02-local/dev/dataplatform/metadata/\u001b[0m\u001b[97mstash\u001b[0m\n"
      ]
     },
     "metadata": {},
     "output_type": "display_data"
    },
    {
     "data": {
      "text/html": [
       "<pre style=\"white-space:pre;overflow-x:auto;line-height:normal;font-family:Menlo,'DejaVu Sans Mono',consolas,'Courier New',monospace\"><span style=\"color: #00ff00; text-decoration-color: #00ff00\">Stash </span><span style=\"color: #00ff00; text-decoration-color: #00ff00; font-weight: bold\">exists</span>\n",
       "</pre>\n"
      ],
      "text/plain": [
       "\u001b[92mStash \u001b[0m\u001b[1;92mexists\u001b[0m\n"
      ]
     },
     "metadata": {},
     "output_type": "display_data"
    },
    {
     "data": {
      "text/html": [
       "<pre style=\"white-space:pre;overflow-x:auto;line-height:normal;font-family:Menlo,'DejaVu Sans Mono',consolas,'Courier New',monospace\">\n",
       "</pre>\n"
      ],
      "text/plain": [
       "\n"
      ]
     },
     "metadata": {},
     "output_type": "display_data"
    },
    {
     "data": {
      "text/html": [
       "<pre style=\"white-space:pre;overflow-x:auto;line-height:normal;font-family:Menlo,'DejaVu Sans Mono',consolas,'Courier New',monospace\">\n",
       "</pre>\n"
      ],
      "text/plain": [
       "\n"
      ]
     },
     "metadata": {},
     "output_type": "display_data"
    },
    {
     "data": {
      "text/html": [
       "<pre style=\"white-space:pre;overflow-x:auto;line-height:normal;font-family:Menlo,'DejaVu Sans Mono',consolas,'Courier New',monospace\"><span style=\"color: #00ff00; text-decoration-color: #00ff00; font-weight: bold\">** Datastructures are valid. Loading Metadata Manager **</span>\n",
       "</pre>\n"
      ],
      "text/plain": [
       "\u001b[1;92m** Datastructures are valid. Loading Metadata Manager **\u001b[0m\n"
      ]
     },
     "metadata": {},
     "output_type": "display_data"
    }
   ],
   "source": [
    "# Setup and check\n",
    "from rich import print, inspect\n",
    "\n",
    "from metadata_lib.schemas import Namespace, Schema, System, Data_entity, Pipeline\n",
    "from metadata_lib.manage import (\n",
    "    MetadataLocation, MetadataStructure, MetadataManager\n",
    ")\n",
    "from metadata_lib.build import flatten_instance\n",
    "import pendulum\n",
    "from metadata_lib.validate import get_next_free_id\n",
    "from metadata_lib.storage_adapters import LocalFilesystem\n",
    "\n",
    "from deps.mm_setup import setup_manager\n",
    "\n",
    "import pandas as pd\n",
    "# Pandas settings\n",
    "# Do not truncate cell contents\n",
    "pd.set_option('display.max_colwidth', None)\n",
    "# Do not truncate nr of columns shown\n",
    "pd.set_option('display.max_columns', None)\n",
    "# Do not truncate nr of rows\n",
    "pd.set_option('display.max_rows', None)\n",
    "\n",
    "# Check data structures\n",
    "valid = setup_manager(\n",
    "    root=metadata_folder,\n",
    "    repo=metadata_repo_location,\n",
    "    stash=metadata_stash_folder\n",
    ")\n",
    "\n",
    "# init\n",
    "if valid:\n",
    "    print()\n",
    "    print()\n",
    "    print('[bold bright_green]** Datastructures are valid. Loading Metadata Manager **[/bold bright_green]')\n",
    "    store = MetadataLocation(\n",
    "        storage_type='localstorage',\n",
    "        Storage_Adapter=LocalFilesystem,\n",
    "        address=metadata_repo_location,\n",
    "        entities_to_load=None,\n",
    "        is_git_repo=False\n",
    "    )\n",
    "    stash = MetadataLocation(\n",
    "        storage_type='localstorage',\n",
    "        Storage_Adapter=LocalFilesystem,\n",
    "        address=metadata_stash_folder,\n",
    "        entities_to_load=None,\n",
    "        is_git_repo=False\n",
    "    )\n",
    "    mm = MetadataManager(\n",
    "        store=store,\n",
    "        stash=stash,\n",
    "        load_current=True,\n",
    "        load_workspace=load_workspace_from\n",
    "    )\n",
    "else:\n",
    "    print()\n",
    "    print()\n",
    "    print('[bold bright_red]** Invalid datastructures. Metadata Manager can not be loaded **[/bold bright_red]')"
   ]
  },
  {
   "cell_type": "markdown",
   "id": "c4802e5c-0c94-4817-8e5c-daa32506891d",
   "metadata": {},
   "source": [
    "***"
   ]
  },
  {
   "cell_type": "markdown",
   "id": "56dae038-ae94-484f-86ef-776f35d3f8e2",
   "metadata": {},
   "source": [
    "## Save"
   ]
  },
  {
   "cell_type": "markdown",
   "id": "5549a248-7330-4168-b220-787583b14603",
   "metadata": {},
   "source": [
    "### Stash"
   ]
  },
  {
   "cell_type": "code",
   "execution_count": null,
   "id": "1b100d0a-16b4-4143-bda5-4eacd4f5bca1",
   "metadata": {},
   "outputs": [],
   "source": [
    "mm.stash_workspace()"
   ]
  },
  {
   "cell_type": "markdown",
   "id": "0ad24f9c-1cf0-4b11-91c5-4b4eaff641af",
   "metadata": {},
   "source": [
    "### Store (Repo)"
   ]
  },
  {
   "cell_type": "code",
   "execution_count": null,
   "id": "619b24a5-6306-4d52-97c5-2d101c97c5b9",
   "metadata": {},
   "outputs": [],
   "source": [
    "mm.store_workspace()"
   ]
  },
  {
   "cell_type": "markdown",
   "id": "dc9fec9b-9261-446d-a6a7-4095fade0bda",
   "metadata": {},
   "source": [
    "***"
   ]
  },
  {
   "cell_type": "markdown",
   "id": "91a2e858-bfb2-469b-a185-ed301a37df64",
   "metadata": {},
   "source": [
    "***"
   ]
  },
  {
   "cell_type": "markdown",
   "id": "693dd9b0-5fb9-4294-821f-35ed5b08f21a",
   "metadata": {
    "tags": []
   },
   "source": [
    "## ** Namespaces **"
   ]
  },
  {
   "cell_type": "markdown",
   "id": "96bccf4f-241d-4bb6-b13c-a2d108752375",
   "metadata": {
    "jp-MarkdownHeadingCollapsed": true,
    "tags": []
   },
   "source": [
    "### View"
   ]
  },
  {
   "cell_type": "code",
   "execution_count": null,
   "id": "40478acf-5471-49e4-83a8-aa88529babc4",
   "metadata": {
    "tags": []
   },
   "outputs": [],
   "source": [
    "mm.workspace.view['namespaces']"
   ]
  },
  {
   "cell_type": "markdown",
   "id": "a3a7160e-49a0-4264-beca-4fe4946800ab",
   "metadata": {},
   "source": [
    "***"
   ]
  },
  {
   "cell_type": "markdown",
   "id": "40469b4d-01ca-4629-8b4b-b2e8e6aa283d",
   "metadata": {
    "jp-MarkdownHeadingCollapsed": true,
    "tags": []
   },
   "source": [
    "### Add New"
   ]
  },
  {
   "cell_type": "markdown",
   "id": "38bf8096-76b5-46bf-85f0-e6685987bb9d",
   "metadata": {
    "tags": []
   },
   "source": [
    "#### - Create new namespace"
   ]
  },
  {
   "cell_type": "code",
   "execution_count": null,
   "id": "889c63f8-e912-4bc4-afd9-968e5e8d6974",
   "metadata": {},
   "outputs": [],
   "source": [
    "new_namespace = Namespace(\n",
    "    id=get_next_free_id(mm.workspace.by_id, 'namespaces'),\n",
    "    unid=None,\n",
    "    name='department_X',\n",
    "    description='Mysterious department',\n",
    "    created=pendulum.now(tz='Europe/Amsterdam'),\n",
    "    modified=pendulum.now(tz='Europe/Amsterdam')\n",
    ")\n",
    "print(new_namespace)"
   ]
  },
  {
   "cell_type": "markdown",
   "id": "3c41def1-5952-4d24-914b-48688da5bc25",
   "metadata": {
    "jp-MarkdownHeadingCollapsed": true
   },
   "source": [
    "##### -- Template"
   ]
  },
  {
   "cell_type": "code",
   "execution_count": null,
   "id": "9a28a093-6290-4e0b-9431-8f86b1ecc8e3",
   "metadata": {},
   "outputs": [],
   "source": [
    "new_namespace = Namespace(\n",
    "    id=get_next_free_id(mm.workspace.by_id, 'namespaces'),\n",
    "    unid=None,\n",
    "    name='department_X',\n",
    "    description='Mysterious department',\n",
    "    created=pendulum.now(tz='Europe/Amsterdam'),\n",
    "    modified=pendulum.now(tz='Europe/Amsterdam')\n",
    ")\n",
    "print(new_namespace)"
   ]
  },
  {
   "cell_type": "markdown",
   "id": "aad00c49-0303-4ecf-8766-c1586a1c7685",
   "metadata": {},
   "source": [
    "#### - Validate new namespace and add it to workspace"
   ]
  },
  {
   "cell_type": "code",
   "execution_count": null,
   "id": "dc8e149b-f5b9-4ad0-8773-1e02177a16de",
   "metadata": {},
   "outputs": [],
   "source": [
    "mm.add_new_entity(new_namespace)"
   ]
  },
  {
   "cell_type": "markdown",
   "id": "896e9e10-81d0-448e-b978-11be34e40beb",
   "metadata": {},
   "source": [
    "#### - [Save](#Save)"
   ]
  },
  {
   "cell_type": "markdown",
   "id": "415cd041-9618-4269-a159-60a5c83eb48e",
   "metadata": {},
   "source": [
    "***"
   ]
  },
  {
   "cell_type": "markdown",
   "id": "3671e146-17f2-466d-9648-3ec622a1a9a8",
   "metadata": {
    "jp-MarkdownHeadingCollapsed": true,
    "tags": []
   },
   "source": [
    "### Edit existing"
   ]
  },
  {
   "cell_type": "markdown",
   "id": "25275451-eb21-48f1-afc8-8f33f4a16240",
   "metadata": {
    "tags": []
   },
   "source": [
    "#### - Get the namespace you want to edit"
   ]
  },
  {
   "cell_type": "code",
   "execution_count": null,
   "id": "4c84a1b4-4eb0-4dcf-81b3-726781b1b952",
   "metadata": {},
   "outputs": [],
   "source": [
    "namespace_UNID = 'UNID'\n",
    "\n",
    "edited_namespace = mm.get_entity_by_unid(\n",
    "    entity_type='namespaces',\n",
    "    unid=namespace_UNID\n",
    ")\n",
    "print(edited_namespace)"
   ]
  },
  {
   "cell_type": "markdown",
   "id": "99f4f574-1337-4066-b7c6-9f69610e5f6e",
   "metadata": {
    "jp-MarkdownHeadingCollapsed": true
   },
   "source": [
    "##### -- Template"
   ]
  },
  {
   "cell_type": "code",
   "execution_count": null,
   "id": "2eed8cc8-ac7b-445b-bd78-c4aa4085746a",
   "metadata": {},
   "outputs": [],
   "source": [
    "namespace_UNID = 'UNID'\n",
    "\n",
    "edited_namespace = mm.get_entity_by_unid(\n",
    "    entity_type='namespaces',\n",
    "    unid=namespace_UNID\n",
    ")\n",
    "print(edited_namespace)"
   ]
  },
  {
   "cell_type": "markdown",
   "id": "796a8917-239e-40b5-8d23-a40b81babcbc",
   "metadata": {},
   "source": [
    "#### - Edit the namespace"
   ]
  },
  {
   "cell_type": "code",
   "execution_count": null,
   "id": "8b2c622b-371c-4b9c-ae36-7b5672ef484e",
   "metadata": {},
   "outputs": [],
   "source": [
    "edited_namespace.name = 'NEW NAME'\n",
    "edited_namespace.description = 'NEW DESCRIPTION'\n",
    "\n",
    "print(edited_namespace)"
   ]
  },
  {
   "cell_type": "markdown",
   "id": "70d89508-7f82-49e2-9955-ba40bf7f7af8",
   "metadata": {
    "jp-MarkdownHeadingCollapsed": true
   },
   "source": [
    "##### -- Template"
   ]
  },
  {
   "cell_type": "code",
   "execution_count": null,
   "id": "28da8b3d-ebb3-45ed-abe1-c502bab4a128",
   "metadata": {},
   "outputs": [],
   "source": [
    "edited_namespace.name = 'NEW NAME'\n",
    "edited_namespace.description = 'NEW DESCRIPTION'\n",
    "\n",
    "print(edited_namespace)"
   ]
  },
  {
   "cell_type": "markdown",
   "id": "ae0253b9-273e-4fc6-bacb-e494402fc5b0",
   "metadata": {},
   "source": [
    "#### - Validate the namespace and add it to workspace structure"
   ]
  },
  {
   "cell_type": "code",
   "execution_count": null,
   "id": "79fc8c03-0e08-42e0-9fb9-81a8623ad824",
   "metadata": {},
   "outputs": [],
   "source": [
    "mm.update_entity(edited_namespace)"
   ]
  },
  {
   "cell_type": "markdown",
   "id": "e636b9b8-8ac9-4331-b022-ccd84a031d2a",
   "metadata": {},
   "source": [
    "#### - [Save](#Save)"
   ]
  },
  {
   "cell_type": "markdown",
   "id": "ccc3d8dc-0aae-4021-969d-7062d69c66e8",
   "metadata": {},
   "source": [
    "***"
   ]
  },
  {
   "cell_type": "markdown",
   "id": "d9b8398b-fc2b-4397-a58b-9ddc81cb3de3",
   "metadata": {
    "jp-MarkdownHeadingCollapsed": true,
    "tags": []
   },
   "source": [
    "### Delete"
   ]
  },
  {
   "cell_type": "markdown",
   "id": "587490c7-8c9f-4775-824b-e18f1e6eddc9",
   "metadata": {},
   "source": [
    "#### - Specify UNID and inspect namespace"
   ]
  },
  {
   "cell_type": "code",
   "execution_count": null,
   "id": "7a035f1e-55c0-46d9-913f-00bb1e8dc95c",
   "metadata": {},
   "outputs": [],
   "source": [
    "namespace_UNID_to_delete = 'UNID'\n",
    "\n",
    "namespace_to_delete = mm.get_entity_by_unid(\n",
    "    entity_type='namespaces',\n",
    "    unid=namespace_UNID_to_delete\n",
    ")\n",
    "print(namespace_to_delete)"
   ]
  },
  {
   "cell_type": "markdown",
   "id": "3dd07daf-ee01-4e04-a7fe-5c286e86816d",
   "metadata": {
    "jp-MarkdownHeadingCollapsed": true
   },
   "source": [
    "##### -- Template"
   ]
  },
  {
   "cell_type": "code",
   "execution_count": null,
   "id": "e0144a88-820d-4c4a-915d-99d13102ef66",
   "metadata": {},
   "outputs": [],
   "source": [
    "namespace_UNID_to_delete = 'UNID'\n",
    "\n",
    "namespace_to_delete = mm.get_entity_by_unid(\n",
    "    entity_type='namespaces',\n",
    "    unid=namespace_UNID_to_delete\n",
    ")\n",
    "print(namespace_to_delete)"
   ]
  },
  {
   "cell_type": "markdown",
   "id": "9fd92ef6-9930-4d88-88ea-3d767e208c47",
   "metadata": {},
   "source": [
    "#### - Validate removal of the namespace and remove it from workspace"
   ]
  },
  {
   "cell_type": "code",
   "execution_count": null,
   "id": "5fb1211d-51a6-46eb-adca-68f5ed070a42",
   "metadata": {},
   "outputs": [],
   "source": [
    "report = mm.delete_entity(\n",
    "    entity_type='namespaces',\n",
    "    unid=namespace_UNID_to_delete\n",
    ")\n",
    "print(report)"
   ]
  },
  {
   "cell_type": "markdown",
   "id": "0f11e07c-f0ea-4cef-b236-bf408c05c187",
   "metadata": {
    "jp-MarkdownHeadingCollapsed": true
   },
   "source": [
    "##### -- Template"
   ]
  },
  {
   "cell_type": "code",
   "execution_count": null,
   "id": "159f137e-75e7-41bc-b86e-10d37a17cedc",
   "metadata": {},
   "outputs": [],
   "source": [
    "report = mm.delete_entity(\n",
    "    entity_type='namespaces',\n",
    "    unid=namespace_UNID_to_delete\n",
    ")\n",
    "print(report)"
   ]
  },
  {
   "cell_type": "markdown",
   "id": "b62fac5a-2700-4e8a-ae3c-bcd3d9b97b7f",
   "metadata": {},
   "source": [
    "#### - [Save](#Save)"
   ]
  },
  {
   "cell_type": "markdown",
   "id": "dd1a4b10-6b6d-4739-b7e6-2b0a17e08926",
   "metadata": {},
   "source": [
    "***"
   ]
  },
  {
   "cell_type": "markdown",
   "id": "d32777ff-205d-44bc-a03a-f3ac2b4504ad",
   "metadata": {
    "jp-MarkdownHeadingCollapsed": true,
    "tags": []
   },
   "source": [
    "## ** Schemas **"
   ]
  },
  {
   "cell_type": "markdown",
   "id": "fb7231bb-af03-4528-be3e-d79ad4bd76aa",
   "metadata": {
    "jp-MarkdownHeadingCollapsed": true,
    "tags": []
   },
   "source": [
    "### View"
   ]
  },
  {
   "cell_type": "code",
   "execution_count": null,
   "id": "b4d7cb90-de9b-40fd-b93a-8222eb731524",
   "metadata": {
    "tags": []
   },
   "outputs": [],
   "source": [
    "mm.workspace.view['schemas']"
   ]
  },
  {
   "cell_type": "markdown",
   "id": "d3290cf1-b72e-4f81-aec8-78ff8b6b49e9",
   "metadata": {},
   "source": [
    "***"
   ]
  },
  {
   "cell_type": "markdown",
   "id": "58873dff-bb01-484e-b110-4707d2e7b5df",
   "metadata": {
    "jp-MarkdownHeadingCollapsed": true,
    "tags": []
   },
   "source": [
    "### Add New"
   ]
  },
  {
   "cell_type": "markdown",
   "id": "b3d99260-2b96-4cc3-95b5-9dbd3a13c7fe",
   "metadata": {
    "tags": []
   },
   "source": [
    "#### - Create new schema"
   ]
  },
  {
   "cell_type": "code",
   "execution_count": null,
   "id": "58640bbb-c60b-49de-98b9-49dbd9cd4e86",
   "metadata": {},
   "outputs": [],
   "source": [
    "new_schema = Schema(\n",
    "    id=get_next_free_id(mm.workspace.by_id, 'schemas'),\n",
    "    unid=None,\n",
    "    namespace='dataplatform',\n",
    "    name='test',\n",
    "    description=None,\n",
    "    type='bigquery',\n",
    "    version=1,\n",
    "    entity_schema=[{'mode': 'REQUIRED', 'name': 'nummer', 'type': 'STRING'}],\n",
    "    created=pendulum.now(tz='Europe/Amsterdam'),\n",
    "    modified=pendulum.now(tz='Europe/Amsterdam')\n",
    ")\n",
    "print(new_schema)"
   ]
  },
  {
   "cell_type": "markdown",
   "id": "dcd5932c-a2a3-4754-9c6e-e30015d62fea",
   "metadata": {
    "jp-MarkdownHeadingCollapsed": true
   },
   "source": [
    "##### -- Template"
   ]
  },
  {
   "cell_type": "code",
   "execution_count": null,
   "id": "feda45b8-5fcb-4aef-9391-014f5a3aeca8",
   "metadata": {},
   "outputs": [],
   "source": [
    "new_schema = Schema(\n",
    "    id=get_next_free_id(mm.workspace.by_id, 'schemas'),\n",
    "    unid=None,\n",
    "    namespace='dataplatform',\n",
    "    name='test',\n",
    "    description=None,\n",
    "    type='bigquery',\n",
    "    version=1,\n",
    "    entity_schema=[{'mode': 'REQUIRED', 'name': 'nummer', 'type': 'STRING'}],\n",
    "    created=pendulum.now(tz='Europe/Amsterdam'),\n",
    "    modified=pendulum.now(tz='Europe/Amsterdam')\n",
    ")\n",
    "print(new_schema)"
   ]
  },
  {
   "cell_type": "markdown",
   "id": "401f9944-9914-40ec-a3dc-caf53d6c4c37",
   "metadata": {},
   "source": [
    "#### - Validate new schema and add it to workspace"
   ]
  },
  {
   "cell_type": "code",
   "execution_count": null,
   "id": "d9420c35-eda6-4c4f-9d32-74283b098b53",
   "metadata": {},
   "outputs": [],
   "source": [
    "mm.add_new_entity(new_schema)"
   ]
  },
  {
   "cell_type": "markdown",
   "id": "4255e6ef-ffee-4df9-8044-ba6147a97512",
   "metadata": {},
   "source": [
    "#### - [Save](#Save)"
   ]
  },
  {
   "cell_type": "markdown",
   "id": "25db2689-d597-4728-a186-35d76c0d74af",
   "metadata": {},
   "source": [
    "***"
   ]
  },
  {
   "cell_type": "markdown",
   "id": "b2695cf0-51f6-40ef-ab40-a032cf780421",
   "metadata": {
    "jp-MarkdownHeadingCollapsed": true,
    "tags": []
   },
   "source": [
    "### Edit existing"
   ]
  },
  {
   "cell_type": "markdown",
   "id": "ef654d7c-08b0-4613-9e21-0dda9d1eaa94",
   "metadata": {
    "tags": []
   },
   "source": [
    "#### - Get the schema to edit"
   ]
  },
  {
   "cell_type": "code",
   "execution_count": null,
   "id": "4a8cf602-3f01-4093-a91e-564913069d8e",
   "metadata": {},
   "outputs": [],
   "source": [
    "schema_UNID = 'UNID'\n",
    "\n",
    "edited_schema = mm.get_entity_by_unid(\n",
    "    entity_type='schemas',\n",
    "    unid=schema_UNID\n",
    ")\n",
    "print(edited_schema)"
   ]
  },
  {
   "cell_type": "markdown",
   "id": "7455fcd8-4f98-4259-9f59-2a14bb24ca38",
   "metadata": {
    "jp-MarkdownHeadingCollapsed": true
   },
   "source": [
    "##### -- Template"
   ]
  },
  {
   "cell_type": "code",
   "execution_count": null,
   "id": "a209fefa-e095-4600-9539-66b526283823",
   "metadata": {},
   "outputs": [],
   "source": [
    "schema_UNID = 'UNID'\n",
    "\n",
    "edited_schema = mm.get_entity_by_unid(\n",
    "    entity_type='schemas',\n",
    "    unid=schema_UNID\n",
    ")\n",
    "print(edited_schema)"
   ]
  },
  {
   "cell_type": "markdown",
   "id": "eabe6434-fef9-46dc-982d-356642d6b50f",
   "metadata": {},
   "source": [
    "#### - Edit the schema"
   ]
  },
  {
   "cell_type": "code",
   "execution_count": null,
   "id": "c6f01d67-fa35-4193-a5e6-bd0b62261431",
   "metadata": {},
   "outputs": [],
   "source": [
    "edited_schema.namespace = 'NEW NAMESPACE UNID'\n",
    "edited_schema.name = 'NEW NAME'\n",
    "edited_schema.description = 'NEW DESCRIPTION' # None\n",
    "edited_schema.type = 'bigquery' # 'avro'\n",
    "edited_schema.version = edited_schema.version + 1\n",
    "edited_schema.entity_schema = [\n",
    "    {'mode': 'REQUIRED', 'name': 'nummer', 'type': 'STRING'}\n",
    "]\n",
    "\n",
    "print(edited_schema)"
   ]
  },
  {
   "cell_type": "markdown",
   "id": "aff20381-62bd-44a4-a540-ce15c85bb886",
   "metadata": {
    "jp-MarkdownHeadingCollapsed": true
   },
   "source": [
    "##### -- Template"
   ]
  },
  {
   "cell_type": "code",
   "execution_count": null,
   "id": "c317a59a-f039-4e59-937f-c5428fe11aac",
   "metadata": {},
   "outputs": [],
   "source": [
    "edited_schema.namespace = 'NEW NAMESPACE UNID'\n",
    "edited_schema.name = 'NEW NAME'\n",
    "edited_schema.description = 'NEW DESCRIPTION' # None\n",
    "edited_schema.type = 'bigquery' # 'avro'\n",
    "edited_schema.version = edited_schema.version + 1\n",
    "edited_schema.entity_schema = [\n",
    "    {'mode': 'REQUIRED', 'name': 'nummer', 'type': 'STRING'}\n",
    "]\n",
    "\n",
    "print(edited_schema)"
   ]
  },
  {
   "cell_type": "markdown",
   "id": "43384574-afa3-4559-8b90-7efc874b8c77",
   "metadata": {},
   "source": [
    "#### - Validate the schema and add it to workspace structure"
   ]
  },
  {
   "cell_type": "code",
   "execution_count": null,
   "id": "2a44052b-4eb0-4778-a41d-306d55cf4683",
   "metadata": {},
   "outputs": [],
   "source": [
    "mm.update_entity(edited_schema)"
   ]
  },
  {
   "cell_type": "markdown",
   "id": "04c9c136-5dd5-4217-9b62-40facb8d4cc9",
   "metadata": {},
   "source": [
    "#### - [Save](#Save)"
   ]
  },
  {
   "cell_type": "markdown",
   "id": "0ae5d9a4-5a21-4107-837a-a01b634f8de5",
   "metadata": {},
   "source": [
    "***"
   ]
  },
  {
   "cell_type": "markdown",
   "id": "220fd9a5-3698-4a38-bc97-a16b5800b038",
   "metadata": {
    "jp-MarkdownHeadingCollapsed": true,
    "tags": []
   },
   "source": [
    "### Delete"
   ]
  },
  {
   "cell_type": "markdown",
   "id": "27afe529-0b15-4d62-91ba-c7940ff92b92",
   "metadata": {
    "tags": []
   },
   "source": [
    "#### - Specify UNID and inspect schema"
   ]
  },
  {
   "cell_type": "code",
   "execution_count": null,
   "id": "51423661-f6be-43c7-805d-213b5a91619d",
   "metadata": {},
   "outputs": [],
   "source": [
    "schema_UNID_to_delete = 'UNID'\n",
    "\n",
    "schema_to_delete = mm.get_entity_by_unid(\n",
    "    entity_type='schemas',\n",
    "    unid=schema_UNID_to_delete\n",
    ")\n",
    "print(schema_to_delete)"
   ]
  },
  {
   "cell_type": "markdown",
   "id": "cf16f170-f0f5-44de-876d-eb283dbe9e6e",
   "metadata": {
    "jp-MarkdownHeadingCollapsed": true
   },
   "source": [
    "##### -- Template"
   ]
  },
  {
   "cell_type": "code",
   "execution_count": null,
   "id": "b415442d-7d84-4f93-b448-57ecd5f11721",
   "metadata": {},
   "outputs": [],
   "source": [
    "schema_UNID_to_delete = 'UNID'\n",
    "\n",
    "schema_to_delete = mm.get_entity_by_unid(\n",
    "    entity_type='schemas',\n",
    "    unid=schema_UNID_to_delete\n",
    ")\n",
    "print(schema_to_delete)"
   ]
  },
  {
   "cell_type": "markdown",
   "id": "8848a649-5739-4bcf-a030-38e8e2f09704",
   "metadata": {},
   "source": [
    "#### - Validate removal of the schema and remove it from workspace"
   ]
  },
  {
   "cell_type": "code",
   "execution_count": null,
   "id": "c0f4dfb7-3823-489c-89e2-6207ceb46238",
   "metadata": {},
   "outputs": [],
   "source": [
    "report = mm.delete_entity(\n",
    "    entity_type='schemas',\n",
    "    unid=schema_UNID_to_delete\n",
    ")\n",
    "print(report)"
   ]
  },
  {
   "cell_type": "markdown",
   "id": "52c2bc00-2583-4b3d-8636-5f6eb703d37d",
   "metadata": {
    "jp-MarkdownHeadingCollapsed": true
   },
   "source": [
    "##### -- Template"
   ]
  },
  {
   "cell_type": "code",
   "execution_count": null,
   "id": "2a5627cc-63e5-47b6-a705-5d471496728b",
   "metadata": {},
   "outputs": [],
   "source": [
    "report = mm.delete_entity(\n",
    "    entity_type='schemas',\n",
    "    unid=schema_UNID_to_delete\n",
    ")\n",
    "print(report)"
   ]
  },
  {
   "cell_type": "markdown",
   "id": "6389f1d3-de8a-4f3f-b6c0-055df913fc3f",
   "metadata": {},
   "source": [
    "#### - [Save](#Save)"
   ]
  },
  {
   "cell_type": "markdown",
   "id": "8ce1aa4f-38ba-4a49-ac9e-e2e2d67b249b",
   "metadata": {},
   "source": [
    "***"
   ]
  },
  {
   "cell_type": "markdown",
   "id": "7ee3f0d0-6796-4251-bb89-c0386097dcbb",
   "metadata": {
    "jp-MarkdownHeadingCollapsed": true,
    "tags": []
   },
   "source": [
    "## ** Systems **"
   ]
  },
  {
   "cell_type": "markdown",
   "id": "61efa160-8fdf-4357-8dd9-3cae40006ac4",
   "metadata": {
    "jp-MarkdownHeadingCollapsed": true,
    "tags": []
   },
   "source": [
    "### View"
   ]
  },
  {
   "cell_type": "code",
   "execution_count": null,
   "id": "f2a5740b-13d9-4e8e-a1f7-e99fcbfe9d9b",
   "metadata": {
    "tags": []
   },
   "outputs": [],
   "source": [
    "mm.workspace.view['systems']"
   ]
  },
  {
   "cell_type": "markdown",
   "id": "d97b94f2-616a-4787-95fa-4d396416351a",
   "metadata": {},
   "source": [
    "***"
   ]
  },
  {
   "cell_type": "markdown",
   "id": "c90f4406-72b3-4cdc-9311-948032026e7f",
   "metadata": {
    "jp-MarkdownHeadingCollapsed": true,
    "tags": []
   },
   "source": [
    "### Add New"
   ]
  },
  {
   "cell_type": "markdown",
   "id": "bbb0f25e-067b-478a-b9d4-7da3e53a84ac",
   "metadata": {},
   "source": [
    "#### - Create new system"
   ]
  },
  {
   "cell_type": "code",
   "execution_count": null,
   "id": "838e3118-921e-490e-b64f-a0038766a087",
   "metadata": {},
   "outputs": [],
   "source": [
    "new_system = System(\n",
    "    id=get_next_free_id(mm.workspace.by_id, 'systems'),\n",
    "    unid=None,\n",
    "    namespace='dataplatform',\n",
    "    name='super_system',\n",
    "    description='It does everything',\n",
    "    type='external',\n",
    "    config={'url': 'www.supersystem.com'},\n",
    "    created=pendulum.now(tz='Europe/Amsterdam'),\n",
    "    modified=pendulum.now(tz='Europe/Amsterdam')\n",
    ")\n",
    "print(new_system)"
   ]
  },
  {
   "cell_type": "markdown",
   "id": "12d44928-d611-4a5d-9170-edcdd99352c5",
   "metadata": {
    "jp-MarkdownHeadingCollapsed": true
   },
   "source": [
    "##### -- Template"
   ]
  },
  {
   "cell_type": "code",
   "execution_count": null,
   "id": "20dedab8-846c-48aa-a907-50ba9dc11792",
   "metadata": {},
   "outputs": [],
   "source": [
    "new_system = System(\n",
    "    id=get_next_free_id(mm.workspace.by_id, 'systems'),\n",
    "    unid=None,\n",
    "    namespace='dataplatform',\n",
    "    name='super_system',\n",
    "    description='It does everything',\n",
    "    type='external',\n",
    "    config={'url': 'www.supersystem.com'},\n",
    "    created=pendulum.now(tz='Europe/Amsterdam'),\n",
    "    modified=pendulum.now(tz='Europe/Amsterdam')\n",
    ")\n",
    "print(new_system)"
   ]
  },
  {
   "cell_type": "markdown",
   "id": "5554a386-1e98-4917-8f46-3839dbeffd71",
   "metadata": {},
   "source": [
    "#### - Validate new system and add it to workspace"
   ]
  },
  {
   "cell_type": "code",
   "execution_count": null,
   "id": "4ff6630c-54a4-45f0-8bb1-bc31156c0287",
   "metadata": {},
   "outputs": [],
   "source": [
    "mm.add_new_entity(new_system)"
   ]
  },
  {
   "cell_type": "markdown",
   "id": "8b31e0d5-2930-432a-a714-486f725273ca",
   "metadata": {},
   "source": [
    "#### - [Save](#Save)"
   ]
  },
  {
   "cell_type": "markdown",
   "id": "c5a40da7-5ea3-4ce4-b017-2b62c7ba1ab9",
   "metadata": {},
   "source": [
    "***"
   ]
  },
  {
   "cell_type": "markdown",
   "id": "369a0301-846a-44a8-881b-21544f10e92d",
   "metadata": {
    "jp-MarkdownHeadingCollapsed": true,
    "tags": []
   },
   "source": [
    "### Edit existing"
   ]
  },
  {
   "cell_type": "markdown",
   "id": "c90035dd-a277-4b30-b4a9-23c789efc7ed",
   "metadata": {},
   "source": [
    "#### - Get the system to edit"
   ]
  },
  {
   "cell_type": "code",
   "execution_count": null,
   "id": "bbafc27d-41ba-4c8a-b613-22fba33be0a4",
   "metadata": {},
   "outputs": [],
   "source": [
    "system_UNID = 'UNID'\n",
    "\n",
    "edited_system = mm.get_entity_by_unid(\n",
    "    entity_type='systems',\n",
    "    unid=system_UNID\n",
    ")\n",
    "print(edited_system)"
   ]
  },
  {
   "cell_type": "markdown",
   "id": "4d013d32-6d06-4b0a-b2c3-6e788db79f2c",
   "metadata": {
    "jp-MarkdownHeadingCollapsed": true
   },
   "source": [
    "##### -- Template"
   ]
  },
  {
   "cell_type": "code",
   "execution_count": null,
   "id": "34feb19e-39cc-4aa7-8247-704313002a33",
   "metadata": {},
   "outputs": [],
   "source": [
    "system_UNID = 'UNID'\n",
    "\n",
    "edited_system = mm.get_entity_by_unid(\n",
    "    entity_type='systems',\n",
    "    unid=system_UNID\n",
    ")\n",
    "print(edited_system)"
   ]
  },
  {
   "cell_type": "markdown",
   "id": "370d54e3-988a-495d-ad3c-253dd5178d4b",
   "metadata": {},
   "source": [
    "#### - Edit the system"
   ]
  },
  {
   "cell_type": "code",
   "execution_count": null,
   "id": "1573147f-72d9-4cdc-a56b-b9197fb32547",
   "metadata": {},
   "outputs": [],
   "source": [
    "edited_system.namespace = 'NEW NAMESPACE UNID'\n",
    "edited_system.name = 'NEW NAME'\n",
    "edited_system.description = 'NEW DESCRIPTION' # None\n",
    "edited_system.type = 'external' # 'internal', 'platform'\n",
    "edited_system.config = {'key': 'value'}\n",
    "\n",
    "print(edited_system)"
   ]
  },
  {
   "cell_type": "markdown",
   "id": "33dd95f4-36fa-4004-833a-f61d9da1e64a",
   "metadata": {
    "jp-MarkdownHeadingCollapsed": true
   },
   "source": [
    "##### -- Template"
   ]
  },
  {
   "cell_type": "code",
   "execution_count": null,
   "id": "c69cc281-fe64-4473-8bcc-752b9e16f0f2",
   "metadata": {},
   "outputs": [],
   "source": [
    "edited_system.namespace = 'NEW NAMESPACE UNID'\n",
    "edited_system.name = 'NEW NAME'\n",
    "edited_system.description = 'NEW DESCRIPTION' # None\n",
    "edited_system.type = 'external' # 'internal', 'platform'\n",
    "edited_system.config = {'key': 'value'}\n",
    "\n",
    "print(edited_system)"
   ]
  },
  {
   "cell_type": "markdown",
   "id": "95858db5-a946-4303-aac9-9db10b3bd002",
   "metadata": {},
   "source": [
    "#### - Validate the system and add it to workspace structure"
   ]
  },
  {
   "cell_type": "code",
   "execution_count": null,
   "id": "8b5f3c2e-b07a-41b7-a01f-42a2d568abf4",
   "metadata": {},
   "outputs": [],
   "source": [
    "mm.update_entity(edited_system)"
   ]
  },
  {
   "cell_type": "markdown",
   "id": "5f7ab094-394f-423c-be15-03d3ab70e842",
   "metadata": {},
   "source": [
    "#### - [Save](#Save)"
   ]
  },
  {
   "cell_type": "markdown",
   "id": "b03634c6-e884-4fb1-a14a-c29bc98bd47f",
   "metadata": {},
   "source": [
    "***"
   ]
  },
  {
   "cell_type": "markdown",
   "id": "bb960f44-71d2-4395-b087-03036d1cd55c",
   "metadata": {
    "jp-MarkdownHeadingCollapsed": true,
    "tags": []
   },
   "source": [
    "### Delete"
   ]
  },
  {
   "cell_type": "markdown",
   "id": "032e6183-d6b3-4d2a-9491-ccf72920885a",
   "metadata": {},
   "source": [
    "#### - Specify UNID and inspect system"
   ]
  },
  {
   "cell_type": "code",
   "execution_count": null,
   "id": "d386954c-7684-4590-be2b-174d6800786b",
   "metadata": {},
   "outputs": [],
   "source": [
    "system_UNID_to_delete = 'UNID'\n",
    "\n",
    "system_to_delete = mm.get_entity_by_unid(\n",
    "    entity_type='systems',\n",
    "    unid=system_UNID_to_delete\n",
    ")\n",
    "print(system_to_delete)"
   ]
  },
  {
   "cell_type": "markdown",
   "id": "e0e48310-fabe-45fb-9a29-089a2e939bd5",
   "metadata": {
    "jp-MarkdownHeadingCollapsed": true
   },
   "source": [
    "##### -- Template"
   ]
  },
  {
   "cell_type": "code",
   "execution_count": null,
   "id": "2521bae4-26b5-46f5-bcd6-1508ec9b2773",
   "metadata": {},
   "outputs": [],
   "source": [
    "system_UNID_to_delete = 'UNID'\n",
    "\n",
    "system_to_delete = mm.get_entity_by_unid(\n",
    "    entity_type='systems',\n",
    "    unid=system_UNID_to_delete\n",
    ")\n",
    "print(system_to_delete)"
   ]
  },
  {
   "cell_type": "markdown",
   "id": "b9524809-d427-43e4-b05b-1577ffed1dd0",
   "metadata": {},
   "source": [
    "#### - Validate removal of the system and remove it from workspace"
   ]
  },
  {
   "cell_type": "code",
   "execution_count": null,
   "id": "c1412ff8-c115-4cda-94d3-1020b94b2407",
   "metadata": {},
   "outputs": [],
   "source": [
    "report = mm.delete_entity(\n",
    "    entity_type='systems',\n",
    "    unid=system_UNID_to_delete\n",
    ")\n",
    "print(report)"
   ]
  },
  {
   "cell_type": "markdown",
   "id": "6a2ab75c-5378-4d6b-be99-f8087f18a650",
   "metadata": {
    "jp-MarkdownHeadingCollapsed": true
   },
   "source": [
    "##### -- Template"
   ]
  },
  {
   "cell_type": "code",
   "execution_count": null,
   "id": "3733bc09-cd02-4c23-8250-19e26eab4654",
   "metadata": {},
   "outputs": [],
   "source": [
    "report = mm.delete_entity(\n",
    "    entity_type='systems',\n",
    "    unid=system_UNID_to_delete\n",
    ")\n",
    "print(report)"
   ]
  },
  {
   "cell_type": "markdown",
   "id": "a05c180e-55c8-4fea-819a-c3391d559528",
   "metadata": {},
   "source": [
    "#### - [Save](#Save)"
   ]
  },
  {
   "cell_type": "markdown",
   "id": "8220b891-06f9-49e9-89b2-899905c6ce0a",
   "metadata": {},
   "source": [
    "***"
   ]
  },
  {
   "cell_type": "markdown",
   "id": "6c16ff36-530f-4eb0-8fc2-4a4bf822542c",
   "metadata": {
    "jp-MarkdownHeadingCollapsed": true,
    "tags": []
   },
   "source": [
    "## ** Data Entities **"
   ]
  },
  {
   "cell_type": "markdown",
   "id": "c54ba919-2675-420f-84c0-f5b813eda159",
   "metadata": {
    "jp-MarkdownHeadingCollapsed": true,
    "tags": []
   },
   "source": [
    "### View"
   ]
  },
  {
   "cell_type": "code",
   "execution_count": null,
   "id": "813cb446-420f-4098-971e-5fbc3dae8c34",
   "metadata": {
    "tags": []
   },
   "outputs": [],
   "source": [
    "mm.workspace.view['data_entities']"
   ]
  },
  {
   "cell_type": "markdown",
   "id": "beab942f-8087-4b9e-b95d-766b79f37cea",
   "metadata": {},
   "source": [
    "***"
   ]
  },
  {
   "cell_type": "markdown",
   "id": "3c97527a-922c-4c56-96be-5762b3e57937",
   "metadata": {
    "jp-MarkdownHeadingCollapsed": true,
    "tags": []
   },
   "source": [
    "### Add New"
   ]
  },
  {
   "cell_type": "markdown",
   "id": "6e6e374e-f8ee-48db-85a8-694ef0ec21f3",
   "metadata": {},
   "source": [
    "#### - Create new data entity"
   ]
  },
  {
   "cell_type": "code",
   "execution_count": null,
   "id": "02be1d95-5c4c-4ec5-94ff-bf4082c6fcc3",
   "metadata": {},
   "outputs": [],
   "source": [
    "new_data_entity = Data_entity(\n",
    "    id=get_next_free_id(mm.workspace.by_id, 'data_entities'),\n",
    "    unid=None,\n",
    "    namespace='dataplatform',\n",
    "    system='dataplatform.supersystem',\n",
    "    name='tickets',\n",
    "    description='A nice api endpoint',\n",
    "    type='datasource',\n",
    "    interface='api_rest',\n",
    "    entity_schema='test.1',\n",
    "    checks=[],\n",
    "    config={'table': 'tickets'},\n",
    "    created=pendulum.now(tz='Europe/Amsterdam'),\n",
    "    modified=pendulum.now(tz='Europe/Amsterdam')\n",
    ")\n",
    "print(new_data_entity)"
   ]
  },
  {
   "cell_type": "markdown",
   "id": "6d61c93b-3247-4cf0-a2f0-a5e194e96d4c",
   "metadata": {
    "jp-MarkdownHeadingCollapsed": true
   },
   "source": [
    "##### -- Template"
   ]
  },
  {
   "cell_type": "code",
   "execution_count": null,
   "id": "0af7e19e-c110-446f-80ca-a634f0990e9f",
   "metadata": {},
   "outputs": [],
   "source": [
    "new_data_entity = Data_entity(\n",
    "    id=get_next_free_id(mm.workspace.by_id, 'data_entities'),\n",
    "    unid=None,\n",
    "    namespace='dataplatform',\n",
    "    system='dataplatform.supersystem',\n",
    "    name='tickets',\n",
    "    description='A nice api endpoint',\n",
    "    type='datasource',\n",
    "    interface='api_rest',\n",
    "    entity_schema='test.1',\n",
    "    checks=[],\n",
    "    config={'table': 'tickets'},\n",
    "    created=pendulum.now(tz='Europe/Amsterdam'),\n",
    "    modified=pendulum.now(tz='Europe/Amsterdam')\n",
    ")\n",
    "print(new_data_entity)"
   ]
  },
  {
   "cell_type": "markdown",
   "id": "53270ad7-5f6a-4e3b-b023-399f104a68d0",
   "metadata": {},
   "source": [
    "#### - Validate new data entity and add it to workspace"
   ]
  },
  {
   "cell_type": "code",
   "execution_count": null,
   "id": "e831b36e-509c-46d9-9147-7bef92f2391c",
   "metadata": {},
   "outputs": [],
   "source": [
    "mm.add_new_entity(new_data_entity)"
   ]
  },
  {
   "cell_type": "markdown",
   "id": "2070ad98-3b98-4631-9522-db2024846ca1",
   "metadata": {},
   "source": [
    "#### - [Save](#Save)"
   ]
  },
  {
   "cell_type": "markdown",
   "id": "41a5b779-fe18-48a7-99b0-54e1b77f0c00",
   "metadata": {},
   "source": [
    "***"
   ]
  },
  {
   "cell_type": "markdown",
   "id": "c7120507-2910-4343-8ee6-33fd55ce246c",
   "metadata": {
    "jp-MarkdownHeadingCollapsed": true,
    "tags": []
   },
   "source": [
    "### Edit existing"
   ]
  },
  {
   "cell_type": "markdown",
   "id": "174a13fe-e2e4-445c-be0f-0d111325a238",
   "metadata": {},
   "source": [
    "#### - Get the data_entity to edit"
   ]
  },
  {
   "cell_type": "code",
   "execution_count": null,
   "id": "5eb048ce-a070-4b48-896e-4be5682773aa",
   "metadata": {},
   "outputs": [],
   "source": [
    "data_entity_UNID = 'UNID'\n",
    "\n",
    "edited_data_entity = mm.get_entity_by_unid(\n",
    "    entity_type='data_entities',\n",
    "    unid=data_entity_UNID\n",
    ")\n",
    "print(edited_data_entity)"
   ]
  },
  {
   "cell_type": "markdown",
   "id": "9f4a9372-d860-4d38-a1fc-2e0415d4cf6b",
   "metadata": {
    "jp-MarkdownHeadingCollapsed": true
   },
   "source": [
    "##### -- Template"
   ]
  },
  {
   "cell_type": "code",
   "execution_count": null,
   "id": "92b022df-b1c1-40be-9d59-72534f35c9eb",
   "metadata": {},
   "outputs": [],
   "source": [
    "data_entity_UNID = 'UNID'\n",
    "\n",
    "edited_data_entity = mm.get_entity_by_unid(\n",
    "    entity_type='data_entities',\n",
    "    unid=data_entity_UNID\n",
    ")\n",
    "print(edited_data_entity)"
   ]
  },
  {
   "cell_type": "markdown",
   "id": "8c3c184a-158d-4665-88a5-98c2382580af",
   "metadata": {},
   "source": [
    "#### - Edit the data_entity"
   ]
  },
  {
   "cell_type": "code",
   "execution_count": null,
   "id": "65168156-c6cd-49da-a4ee-ce4c603c2afc",
   "metadata": {},
   "outputs": [],
   "source": [
    "edited_data_entity.namespace = 'NEW NAMESPACE UNID'\n",
    "edited_data_entity.system = 'NEW SYSTEM UNID'\n",
    "edited_data_entity.name = 'NEW NAME'\n",
    "edited_data_entity.description = 'NEW DESCRIPTION' # None\n",
    "edited_data_entity.type = 'datasource'\n",
    "edited_data_entity.interface = 'api_rest'\n",
    "edited_data_entity.entity_schema = 'NEW SCHEMA UNID'\n",
    "edited_data_entity.checks=[]\n",
    "edited_data_entity.config={'key': 'value'} # None\n",
    "\n",
    "print(edited_data_entity)"
   ]
  },
  {
   "cell_type": "markdown",
   "id": "d62ff904-08c4-4b64-a847-9eb8ce0f32ea",
   "metadata": {
    "jp-MarkdownHeadingCollapsed": true
   },
   "source": [
    "##### -- Template"
   ]
  },
  {
   "cell_type": "code",
   "execution_count": null,
   "id": "f1f3016c-1fb0-4394-854b-7f04e41a88ae",
   "metadata": {},
   "outputs": [],
   "source": [
    "edited_data_entity.namespace = 'NEW NAMESPACE UNID'\n",
    "edited_data_entity.system = 'NEW SYSTEM UNID'\n",
    "edited_data_entity.name = 'NEW NAME'\n",
    "edited_data_entity.description = 'NEW DESCRIPTION' # None\n",
    "edited_data_entity.type = 'datasource'\n",
    "edited_data_entity.interface = 'api_rest'\n",
    "edited_data_entity.entity_schema = 'NEW SCHEMA UNID'\n",
    "edited_data_entity.checks=[]\n",
    "edited_data_entity.config={'key': 'value'} # None\n",
    "\n",
    "print(edited_data_entity)"
   ]
  },
  {
   "cell_type": "markdown",
   "id": "c73b6151-a557-4e54-8667-d08b262e6836",
   "metadata": {},
   "source": [
    "#### - Validate the data_entity and add it to workspace structure"
   ]
  },
  {
   "cell_type": "code",
   "execution_count": null,
   "id": "7a5a7458-d169-4211-8921-760d493d6139",
   "metadata": {},
   "outputs": [],
   "source": [
    "mm.update_entity(edited_data_entity)"
   ]
  },
  {
   "cell_type": "markdown",
   "id": "00f3529e-1e5a-4d18-ab51-bb2b181b6a4d",
   "metadata": {},
   "source": [
    "#### - [Save](#Save)"
   ]
  },
  {
   "cell_type": "markdown",
   "id": "0560ad95-43a3-4472-aee5-066bc68dde19",
   "metadata": {},
   "source": [
    "***"
   ]
  },
  {
   "cell_type": "markdown",
   "id": "c012504b-d53b-44e5-b676-cfc4d6dd06d8",
   "metadata": {
    "jp-MarkdownHeadingCollapsed": true,
    "tags": []
   },
   "source": [
    "### Delete"
   ]
  },
  {
   "cell_type": "markdown",
   "id": "11caf233-325e-436e-895d-f6e168f9fcbd",
   "metadata": {},
   "source": [
    "#### - Specify UNID and inspect data_entity"
   ]
  },
  {
   "cell_type": "code",
   "execution_count": null,
   "id": "fed40919-c6f8-4b71-af5f-6cf3e2556ea9",
   "metadata": {},
   "outputs": [],
   "source": [
    "data_entity_UNID_to_delete = 'UNID'\n",
    "\n",
    "data_entity_to_delete = mm.get_entity_by_unid(\n",
    "    entity_type='data_entities',\n",
    "    unid=data_entity_UNID_to_delete\n",
    ")\n",
    "print(data_entity_to_delete)"
   ]
  },
  {
   "cell_type": "markdown",
   "id": "c4bd4ae2-f7fc-4e54-aa22-f153a9c7a7b1",
   "metadata": {
    "jp-MarkdownHeadingCollapsed": true
   },
   "source": [
    "##### -- Template"
   ]
  },
  {
   "cell_type": "code",
   "execution_count": null,
   "id": "4103afc8-7042-4207-b71d-ab293c6eeacf",
   "metadata": {},
   "outputs": [],
   "source": [
    "data_entity_UNID_to_delete = 'UNID'\n",
    "\n",
    "data_entity_to_delete = mm.get_entity_by_unid(\n",
    "    entity_type='data_entities',\n",
    "    unid=data_entity_UNID_to_delete\n",
    ")\n",
    "print(data_entity_to_delete)"
   ]
  },
  {
   "cell_type": "markdown",
   "id": "8706ad8c-462b-4e64-8fb6-a4268d38613a",
   "metadata": {},
   "source": [
    "#### - Validate removal of the data_entity and remove it from workspace"
   ]
  },
  {
   "cell_type": "code",
   "execution_count": null,
   "id": "77396fbb-0f53-4b0b-843b-4ee6c476e092",
   "metadata": {},
   "outputs": [],
   "source": [
    "report = mm.delete_entity(\n",
    "    entity_type='data_entities',\n",
    "    unid=data_entity_UNID_to_delete\n",
    ")\n",
    "print(report)"
   ]
  },
  {
   "cell_type": "markdown",
   "id": "104fe784-15b6-4ebf-a256-c09c78b848f3",
   "metadata": {
    "jp-MarkdownHeadingCollapsed": true
   },
   "source": [
    "##### -- Template"
   ]
  },
  {
   "cell_type": "code",
   "execution_count": null,
   "id": "94a72f8d-de3c-4293-8597-31d3d555a55e",
   "metadata": {},
   "outputs": [],
   "source": [
    "report = mm.delete_entity(\n",
    "    entity_type='data_entities',\n",
    "    unid=data_entity_UNID_to_delete\n",
    ")\n",
    "print(report)"
   ]
  },
  {
   "cell_type": "markdown",
   "id": "333b5253-51d7-41da-9470-bc82a433adb2",
   "metadata": {},
   "source": [
    "#### - [Save](#Save)"
   ]
  },
  {
   "cell_type": "markdown",
   "id": "d28d2746-ead0-4230-8348-b8e08ac70e08",
   "metadata": {},
   "source": [
    "***"
   ]
  },
  {
   "cell_type": "markdown",
   "id": "877ed7df-9246-49f7-89cd-e3a48733ad27",
   "metadata": {
    "jp-MarkdownHeadingCollapsed": true,
    "tags": []
   },
   "source": [
    "## ** Pipelines **"
   ]
  },
  {
   "cell_type": "markdown",
   "id": "f1a19a67-c88b-45b5-b724-db2076661813",
   "metadata": {
    "jp-MarkdownHeadingCollapsed": true,
    "tags": []
   },
   "source": [
    "### View"
   ]
  },
  {
   "cell_type": "code",
   "execution_count": null,
   "id": "74c79481-f9ed-4efd-b49f-1e94d3f56666",
   "metadata": {
    "tags": []
   },
   "outputs": [],
   "source": [
    "mm.workspace.view['pipelines']"
   ]
  },
  {
   "cell_type": "markdown",
   "id": "d72dc2e1-5c46-49ac-87d8-7b7b3199dc72",
   "metadata": {},
   "source": [
    "***"
   ]
  },
  {
   "cell_type": "markdown",
   "id": "fe6578f8-ae8b-4df8-9d05-5b24375b809c",
   "metadata": {
    "jp-MarkdownHeadingCollapsed": true,
    "tags": []
   },
   "source": [
    "### Add New"
   ]
  },
  {
   "cell_type": "markdown",
   "id": "fee99345-ac8d-4a0c-88f6-f7df4b8b6a48",
   "metadata": {},
   "source": [
    "#### - Create new pipeline"
   ]
  },
  {
   "cell_type": "code",
   "execution_count": null,
   "id": "d56335af-456c-4c86-98f3-b081ca14f376",
   "metadata": {},
   "outputs": [],
   "source": [
    "new_pipeline = Pipeline(\n",
    "    id=get_next_free_id(mm.workspace.by_id, 'pipelines'),\n",
    "    unid=None,\n",
    "    namespace='dataplatform',\n",
    "    name='testest',\n",
    "    description='Ingest pipeline for supersystem',\n",
    "    enabled=True,\n",
    "    version=1,\n",
    "    scope='single',\n",
    "    type='ingest',\n",
    "    velocity='batch',\n",
    "    input_output=[\n",
    "        {'input':['dataplatform.dataplatform.hayabusa_sshfs.my_table.dataset'], 'output':['dataplatform.dataplatform.hayabusa_sshfs.your_table.dataset']}\n",
    "    ],\n",
    "    config={'apiversion': 'beta'},\n",
    "    created=pendulum.now(tz='Europe/Amsterdam'),\n",
    "    modified=pendulum.now(tz='Europe/Amsterdam')\n",
    ")\n",
    "print(new_pipeline)"
   ]
  },
  {
   "cell_type": "markdown",
   "id": "a92f2a4a-f4c5-4367-8c8c-1f1d1b4bae03",
   "metadata": {
    "jp-MarkdownHeadingCollapsed": true
   },
   "source": [
    "##### -- Template"
   ]
  },
  {
   "cell_type": "code",
   "execution_count": null,
   "id": "7888420c-656c-48ef-aa4e-8611f5fd4996",
   "metadata": {},
   "outputs": [],
   "source": [
    "new_pipeline = Pipeline(\n",
    "    id=get_next_free_id(mm.workspace.by_id, 'pipelines'),\n",
    "    unid=None,\n",
    "    namespace='dataplatform',\n",
    "    name='testest',\n",
    "    description='Ingest pipeline for supersystem',\n",
    "    enabled=True,\n",
    "    version=1,\n",
    "    scope='single',\n",
    "    type='ingest',\n",
    "    velocity='batch',\n",
    "    input_output=[\n",
    "        {'input':['dataplatform.dataplatform.hayabusa_sshfs.my_table.dataset'], 'output':['dataplatform.dataplatform.hayabusa_sshfs.your_table.dataset']}\n",
    "    ],\n",
    "    config={'apiversion': 'beta'},\n",
    "    created=pendulum.now(tz='Europe/Amsterdam'),\n",
    "    modified=pendulum.now(tz='Europe/Amsterdam')\n",
    ")\n",
    "print(new_pipeline)"
   ]
  },
  {
   "cell_type": "markdown",
   "id": "6960b4ad-bf8a-4b1d-b8bf-e70fe0aee7c6",
   "metadata": {},
   "source": [
    "#### - Validate new pipeline and add it to workspace"
   ]
  },
  {
   "cell_type": "code",
   "execution_count": null,
   "id": "f81987f1-bda4-4599-8794-f8c3e4068059",
   "metadata": {},
   "outputs": [],
   "source": [
    "mm.add_new_entity(new_pipeline)"
   ]
  },
  {
   "cell_type": "markdown",
   "id": "32d9b30e-d961-4973-8508-829ed01b8713",
   "metadata": {},
   "source": [
    "#### - [Save](#Save)"
   ]
  },
  {
   "cell_type": "markdown",
   "id": "851de6a3-3b0f-4803-b33b-961c0b21b9a6",
   "metadata": {},
   "source": [
    "***"
   ]
  },
  {
   "cell_type": "markdown",
   "id": "3029eac6-19c2-4203-8db6-858557de3ba4",
   "metadata": {
    "jp-MarkdownHeadingCollapsed": true,
    "tags": []
   },
   "source": [
    "### Edit existing"
   ]
  },
  {
   "cell_type": "markdown",
   "id": "bb94cf23-4568-47c8-82e2-ea123ce400ad",
   "metadata": {},
   "source": [
    "#### - Get the pipeline to edit"
   ]
  },
  {
   "cell_type": "code",
   "execution_count": null,
   "id": "dff36d6b-57b0-476c-a686-3ee2e059676f",
   "metadata": {},
   "outputs": [],
   "source": [
    "pipeline_UNID = 'UNID'\n",
    "\n",
    "edited_pipeline = mm.get_entity_by_unid(\n",
    "    entity_type='pipelines',\n",
    "    unid=pipeline_UNID\n",
    ")\n",
    "print(edited_pipeline)"
   ]
  },
  {
   "cell_type": "markdown",
   "id": "e7b3290f-017f-4273-9fc9-db156bdd1b7f",
   "metadata": {
    "jp-MarkdownHeadingCollapsed": true
   },
   "source": [
    "##### -- Template"
   ]
  },
  {
   "cell_type": "code",
   "execution_count": null,
   "id": "72150b38-b8f7-4b98-a604-6a35d3d31424",
   "metadata": {},
   "outputs": [],
   "source": [
    "pipeline_UNID = 'UNID'\n",
    "\n",
    "edited_pipeline = mm.get_entity_by_unid(\n",
    "    entity_type='pipelines',\n",
    "    unid=pipeline_UNID\n",
    ")\n",
    "print(edited_pipeline)"
   ]
  },
  {
   "cell_type": "markdown",
   "id": "f5a706a5-928a-4383-9570-e1f5fe2d4a4c",
   "metadata": {},
   "source": [
    "#### - Edit the pipeline"
   ]
  },
  {
   "cell_type": "code",
   "execution_count": null,
   "id": "bc2c9dc5-bfc5-470a-ab6b-2f6388c27dc6",
   "metadata": {},
   "outputs": [],
   "source": [
    "edited_pipeline.namespace = 'NEW NAMESPACE UNID'\n",
    "edited_pipeline.name = 'NEW NAME'\n",
    "edited_pipeline.description = 'NEW DESCRIPTION' # None\n",
    "edited_pipeline.enabled = True # False\n",
    "edited_pipeline.version = edited_pipeline.version + 1\n",
    "edited_pipeline.scope = 'compound' # 'single'\n",
    "edited_pipeline.type = 'ingest' # 'transform', 'delivery'\n",
    "edited_pipeline.velocity = 'batch' # 'streaming'\n",
    "edited_pipeline.input_output = [\n",
    "    {'input':'ENTITY_UNID_INPUT', 'output':'ENTITY_UNID_OUTPUT'}\n",
    "] # {'input':['ENTITY_UNID_INPUT_1', 'ENTITY_UNID_INPUT_2'], 'output':['ENTITY_UNID_OUTPUT_1', 'ENTITY_UNID_OUTPUT_2']}\n",
    "edited_pipeline.config={'key': 'value'} # None\n",
    "\n",
    "print(edited_pipeline)"
   ]
  },
  {
   "cell_type": "markdown",
   "id": "31cce411-2a1f-460c-9ef6-cfab2b15ab42",
   "metadata": {
    "jp-MarkdownHeadingCollapsed": true
   },
   "source": [
    "##### -- Template"
   ]
  },
  {
   "cell_type": "code",
   "execution_count": null,
   "id": "3bfa9225-8f76-48c8-9447-f1b2cdb967f0",
   "metadata": {},
   "outputs": [],
   "source": [
    "edited_pipeline.namespace = 'NEW NAMESPACE UNID'\n",
    "edited_pipeline.name = 'NEW NAME'\n",
    "edited_pipeline.description = 'NEW DESCRIPTION' # None\n",
    "edited_pipeline.enabled = True # False\n",
    "edited_pipeline.version = edited_pipeline.version + 1\n",
    "edited_pipeline.scope = 'compound' # 'single'\n",
    "edited_pipeline.type = 'ingest' # 'transform', 'delivery'\n",
    "edited_pipeline.velocity = 'batch' # 'streaming'\n",
    "edited_pipeline.input_output = [\n",
    "    {'input':'ENTITY_UNID_INPUT', 'output':'ENTITY_UNID_OUTPUT'}\n",
    "] # {'input':['ENTITY_UNID_INPUT_1', 'ENTITY_UNID_INPUT_2'], 'output':['ENTITY_UNID_OUTPUT_1', 'ENTITY_UNID_OUTPUT_2']}\n",
    "edited_pipeline.config={'key': 'value'} # None\n",
    "\n",
    "print(edited_pipeline)"
   ]
  },
  {
   "cell_type": "markdown",
   "id": "ee1abf3f-bcc8-45da-9b9b-829c356ecebc",
   "metadata": {},
   "source": [
    "#### - Validate the pipeline and add it to workspace structure"
   ]
  },
  {
   "cell_type": "code",
   "execution_count": null,
   "id": "8510c9c8-7466-434d-96a0-27201b0d755c",
   "metadata": {},
   "outputs": [],
   "source": [
    "mm.update_entity(edited_pipeline)"
   ]
  },
  {
   "cell_type": "markdown",
   "id": "56085b53-512c-4a1c-a191-f40d85f5c6f2",
   "metadata": {},
   "source": [
    "#### - [Save](#Save)"
   ]
  },
  {
   "cell_type": "markdown",
   "id": "b439fdef-099a-4361-bdb3-7119ae167380",
   "metadata": {},
   "source": [
    "***"
   ]
  },
  {
   "cell_type": "markdown",
   "id": "9c62361b-ae62-4ee2-80b6-57929cd2040c",
   "metadata": {
    "jp-MarkdownHeadingCollapsed": true,
    "tags": []
   },
   "source": [
    "### Delete"
   ]
  },
  {
   "cell_type": "markdown",
   "id": "ed1b464d-b9e9-452d-b947-f96c64dfdcf3",
   "metadata": {},
   "source": [
    "#### - Specify UNID and inspect the pipeline"
   ]
  },
  {
   "cell_type": "code",
   "execution_count": null,
   "id": "cb805bad-4243-4505-8445-caba0a3720b6",
   "metadata": {},
   "outputs": [],
   "source": [
    "pipeline_UNID_to_delete = 'UNID'\n",
    "\n",
    "pipeline_to_delete = mm.get_entity_by_unid(\n",
    "    entity_type='pipelines',\n",
    "    unid=pipeline_UNID_to_delete\n",
    ")\n",
    "print(pipeline_to_delete)"
   ]
  },
  {
   "cell_type": "markdown",
   "id": "9c0a676c-3ae6-4ade-9750-ee67d0df83b4",
   "metadata": {
    "jp-MarkdownHeadingCollapsed": true
   },
   "source": [
    "##### -- Template"
   ]
  },
  {
   "cell_type": "code",
   "execution_count": null,
   "id": "d5b90ecb-6227-4bae-b617-fab436741873",
   "metadata": {},
   "outputs": [],
   "source": [
    "pipeline_UNID_to_delete = 'UNID'\n",
    "\n",
    "pipeline_to_delete = mm.get_entity_by_unid(\n",
    "    entity_type='pipelines',\n",
    "    unid=pipeline_UNID_to_delete\n",
    ")\n",
    "print(pipeline_to_delete)"
   ]
  },
  {
   "cell_type": "markdown",
   "id": "2661527e-f069-42a8-bc38-590df05ab777",
   "metadata": {},
   "source": [
    "#### - Validate removal of the pipeline and remove it from workspace"
   ]
  },
  {
   "cell_type": "code",
   "execution_count": null,
   "id": "5b1c6680-36bb-47bf-8510-7e16d7968d4e",
   "metadata": {},
   "outputs": [],
   "source": [
    "report = mm.delete_entity(\n",
    "    entity_type='pipelines',\n",
    "    unid=pipeline_UNID_to_delete\n",
    ")\n",
    "print(report)"
   ]
  },
  {
   "cell_type": "markdown",
   "id": "bc928065-4056-4a71-9d5b-8a91a3b64e1a",
   "metadata": {
    "jp-MarkdownHeadingCollapsed": true
   },
   "source": [
    "##### -- Template"
   ]
  },
  {
   "cell_type": "code",
   "execution_count": null,
   "id": "c94b5147-fb23-44bb-abaf-7a418e65e7e6",
   "metadata": {},
   "outputs": [],
   "source": [
    "report = mm.delete_entity(\n",
    "    entity_type='pipelines',\n",
    "    unid=pipeline_UNID_to_delete\n",
    ")\n",
    "print(report)"
   ]
  },
  {
   "cell_type": "markdown",
   "id": "591d512c-8490-4e79-98ac-d5f92b7e12f8",
   "metadata": {},
   "source": [
    "#### - [Save](#Save)"
   ]
  },
  {
   "cell_type": "markdown",
   "id": "26f754fe-5630-461a-99ac-08193e27e8d9",
   "metadata": {},
   "source": [
    "***"
   ]
  },
  {
   "cell_type": "markdown",
   "id": "e104520d-4020-483f-a3c9-819101675ce9",
   "metadata": {
    "jp-MarkdownHeadingCollapsed": true,
    "tags": []
   },
   "source": [
    "## ** Config for DAGs and scripts **"
   ]
  },
  {
   "cell_type": "markdown",
   "id": "c9c163e4-a80d-4c43-a43a-e012ba631223",
   "metadata": {
    "tags": []
   },
   "source": [
    "#### - View pipelines"
   ]
  },
  {
   "cell_type": "code",
   "execution_count": null,
   "id": "b28bc8c5-6b0a-40ad-b2dd-d98016e18c39",
   "metadata": {
    "tags": []
   },
   "outputs": [],
   "source": [
    "mm.workspace.view['pipelines']"
   ]
  },
  {
   "cell_type": "markdown",
   "id": "ad1c8885-6148-46d1-a3a8-063a7bf9c42d",
   "metadata": {
    "tags": []
   },
   "source": [
    "#### - Complete DAG_CONFIG"
   ]
  },
  {
   "cell_type": "code",
   "execution_count": null,
   "id": "70c3ef0d-1e1a-4b8a-a2cc-8af043b923c7",
   "metadata": {},
   "outputs": [],
   "source": [
    "print(mm.workspace.dag_config)"
   ]
  },
  {
   "cell_type": "markdown",
   "id": "3305c6a5-6538-464f-a374-72eb48704adb",
   "metadata": {
    "tags": []
   },
   "source": [
    "#### - Specific pipeline DAG_CONFIG"
   ]
  },
  {
   "cell_type": "code",
   "execution_count": null,
   "id": "72a0737e-e91b-4312-b49c-1e1570d2f5bc",
   "metadata": {},
   "outputs": [],
   "source": [
    "unid_to_view = 'dataplatform.example_pipeline.ingest.1'\n",
    "print(mm.workspace.dag_config[unid_to_view])"
   ]
  }
 ],
 "metadata": {
  "environment": {
   "kernel": "python3",
   "name": "common-cpu.m117",
   "type": "gcloud",
   "uri": "us-docker.pkg.dev/deeplearning-platform-release/gcr.io/base-cpu:m117"
  },
  "kernelspec": {
   "display_name": "Python 3 (ipykernel)",
   "language": "python",
   "name": "python3"
  },
  "language_info": {
   "codemirror_mode": {
    "name": "ipython",
    "version": 3
   },
   "file_extension": ".py",
   "mimetype": "text/x-python",
   "name": "python",
   "nbconvert_exporter": "python",
   "pygments_lexer": "ipython3",
   "version": "3.10.12"
  }
 },
 "nbformat": 4,
 "nbformat_minor": 5
}
